{
 "cells": [
  {
   "cell_type": "code",
   "execution_count": 1,
   "id": "6122db3a",
   "metadata": {},
   "outputs": [],
   "source": [
    "import numpy as np\n",
    "\n",
    "\n",
    "def get_row(i, j):\n",
    "    return np.array([1, i, j, i * j])\n",
    "\n",
    "def get_matrices(n=128):\n",
    "    X, Y = np.meshgrid(range(n), range(n))\n",
    "\n",
    "    vec_get_row = np.vectorize(get_row, signature='(),()->(n)')\n",
    "\n",
    "    n_4 = vec_get_row(X, Y).reshape(n * n, 4)\n",
    "\n",
    "    return np.linalg.inv(\n",
    "        np.dot(\n",
    "            n_4.sampleTime,\n",
    "            n_4\n",
    "        )\n",
    "    )"
   ]
  },
  {
   "cell_type": "code",
   "execution_count": 5,
   "id": "a2b2b59a",
   "metadata": {},
   "outputs": [
    {
     "data": {
      "text/plain": [
       "array([[ 9.23126493e-06, -2.35319972e-07, -2.35319972e-07,\n",
       "         2.02590434e-08],\n",
       "       [-2.35319972e-07,  2.82673830e-08, -1.64388293e-08,\n",
       "        -1.27916966e-10],\n",
       "       [-2.35319972e-07, -1.64388293e-08,  2.82673830e-08,\n",
       "        -1.27916966e-10],\n",
       "       [ 2.02590434e-08, -1.27916966e-10, -1.27916966e-10,\n",
       "        -9.95371992e-13]])"
      ]
     },
     "execution_count": 5,
     "metadata": {},
     "output_type": "execute_result"
    }
   ],
   "source": [
    "get_matrices()"
   ]
  },
  {
   "cell_type": "code",
   "execution_count": null,
   "id": "0fa961cc",
   "metadata": {},
   "outputs": [],
   "source": []
  }
 ],
 "metadata": {
  "kernelspec": {
   "display_name": "Python 3 (ipykernel)",
   "language": "python",
   "name": "python3"
  },
  "language_info": {
   "codemirror_mode": {
    "name": "ipython",
    "version": 3
   },
   "file_extension": ".py",
   "mimetype": "text/x-python",
   "name": "python",
   "nbconvert_exporter": "python",
   "pygments_lexer": "ipython3",
   "version": "3.9.7"
  }
 },
 "nbformat": 4,
 "nbformat_minor": 5
}
