{
 "cells": [
  {
   "cell_type": "code",
   "execution_count": 1,
   "id": "10f0eb6f",
   "metadata": {},
   "outputs": [],
   "source": [
    "%matplotlib qt5\n",
    "import numpy as np\n",
    "from pathlib import Path\n",
    "from numpy import genfromtxt\n",
    "import matplotlib.pyplot as plt\n",
    "import scipy\n",
    "import scipy.signal\n",
    "from scipy.fft import ifft2, fft2"
   ]
  },
  {
   "cell_type": "code",
   "execution_count": 28,
   "id": "cfdadb1d",
   "metadata": {},
   "outputs": [],
   "source": [
    "base_path = Path('F:\\\\tiptilt\\\\20230511_105822')"
   ]
  },
  {
   "cell_type": "code",
   "execution_count": 89,
   "id": "db8c4599",
   "metadata": {},
   "outputs": [],
   "source": [
    "base_path = Path('F:\\\\tiptilt\\\\20230516_115312')"
   ]
  },
  {
   "cell_type": "code",
   "execution_count": 38,
   "id": "dcdbd1b9",
   "metadata": {},
   "outputs": [],
   "source": [
    "new_image = np.fromfile(base_path / 'Curr_196800.dat', dtype=np.float64).reshape(256, 256)"
   ]
  },
  {
   "cell_type": "code",
   "execution_count": 39,
   "id": "68fb94b4",
   "metadata": {},
   "outputs": [
    {
     "data": {
      "text/plain": [
       "Text(0, 0.5, 'y [arcseconds]')"
      ]
     },
     "execution_count": 39,
     "metadata": {},
     "output_type": "execute_result"
    }
   ],
   "source": [
    "plt.imshow(new_image - new_image.min(), cmap='gray', origin='upper', extent=[0, 256*8*27/1000, 0, 256*8*27/1000])\n",
    "plt.xlabel('x [arcseconds]')\n",
    "plt.ylabel('y [arcseconds]')"
   ]
  },
  {
   "cell_type": "code",
   "execution_count": 90,
   "id": "210c010f",
   "metadata": {},
   "outputs": [],
   "source": [
    "shifts = genfromtxt(base_path / 'Shifts.csv', delimiter=',', invalid_raise=False)"
   ]
  },
  {
   "cell_type": "code",
   "execution_count": 91,
   "id": "2c0d62d4",
   "metadata": {},
   "outputs": [
    {
     "data": {
      "text/plain": [
       "(233718, 7)"
      ]
     },
     "execution_count": 91,
     "metadata": {},
     "output_type": "execute_result"
    }
   ],
   "source": [
    "shifts.shape"
   ]
  },
  {
   "cell_type": "code",
   "execution_count": 93,
   "id": "a72320fd",
   "metadata": {},
   "outputs": [
    {
     "data": {
      "text/plain": [
       "[<matplotlib.lines.Line2D at 0x29e1d208>]"
      ]
     },
     "execution_count": 93,
     "metadata": {},
     "output_type": "execute_result"
    }
   ],
   "source": [
    "plt.plot(shifts[:, 2], color='green')\n",
    "# plt.plot(np.arange(len(shifts[:, 2])) / 655, shifts[:, 3])\n",
    "# plt.xlabel('Time [s]')\n",
    "# plt.ylabel('Image shift [pixels]')\n",
    "# plt.ylim(-2, 2)\n",
    "# plt.plot(np.ones_like(shifts[:, 3]) * np.mean(shifts[:, 3]))"
   ]
  },
  {
   "cell_type": "code",
   "execution_count": 65,
   "id": "12930513",
   "metadata": {
    "scrolled": true
   },
   "outputs": [
    {
     "data": {
      "text/plain": [
       "-0.6126400000000003"
      ]
     },
     "execution_count": 65,
     "metadata": {},
     "output_type": "execute_result"
    }
   ],
   "source": [
    "np.sum(shifts[0:655*30, 10])"
   ]
  },
  {
   "cell_type": "code",
   "execution_count": null,
   "id": "bc98d07d",
   "metadata": {},
   "outputs": [],
   "source": [
    "kl= list()\n",
    "hh = 60\n",
    "for i in (shifts[0:19411, 2]):\n",
    "    hh += i\n",
    "    kl.append(hh)"
   ]
  },
  {
   "cell_type": "code",
   "execution_count": null,
   "id": "1c41867c",
   "metadata": {},
   "outputs": [],
   "source": [
    "plt.plot(kl)"
   ]
  },
  {
   "cell_type": "code",
   "execution_count": null,
   "id": "91ded7c2",
   "metadata": {},
   "outputs": [],
   "source": [
    "np.where(np.isnan(shifts[:, 4]))"
   ]
  },
  {
   "cell_type": "code",
   "execution_count": 13,
   "id": "6d73d394",
   "metadata": {},
   "outputs": [
    {
     "data": {
      "text/plain": [
       "-1.7919046688498455"
      ]
     },
     "execution_count": 13,
     "metadata": {},
     "output_type": "execute_result"
    }
   ],
   "source": [
    "np.nanmean(shifts[:, 4]) - 60"
   ]
  },
  {
   "cell_type": "code",
   "execution_count": null,
   "id": "14803211",
   "metadata": {},
   "outputs": [],
   "source": [
    "ref = np.fromfile(base_path / 'Ref.dat', dtype=np.float64).reshape(256, 256)"
   ]
  },
  {
   "cell_type": "code",
   "execution_count": null,
   "id": "4dfeb33b",
   "metadata": {},
   "outputs": [],
   "source": [
    "plt.imshow(ref, cmap='gray', origin='lower')"
   ]
  },
  {
   "cell_type": "code",
   "execution_count": null,
   "id": "9bc9f837",
   "metadata": {},
   "outputs": [],
   "source": [
    "fft_ref = fft2(ref)"
   ]
  },
  {
   "cell_type": "code",
   "execution_count": null,
   "id": "b226eca2",
   "metadata": {},
   "outputs": [],
   "source": [
    "fft_new = fft2(new_image)"
   ]
  },
  {
   "cell_type": "code",
   "execution_count": null,
   "id": "e3ba047b",
   "metadata": {},
   "outputs": [],
   "source": [
    "corr_img_ft = np.zeros_like(fft_ref)"
   ]
  },
  {
   "cell_type": "code",
   "execution_count": null,
   "id": "be0e56c4",
   "metadata": {},
   "outputs": [],
   "source": [
    "corr_img_ft.real = (fft_new.real * fft_ref.real) +  (fft_new.imag * fft_ref.imag)\n",
    "corr_img_ft.imag = (fft_new.imag * fft_ref.real) -  (fft_new.real * fft_ref.imag)"
   ]
  },
  {
   "cell_type": "code",
   "execution_count": null,
   "id": "cef08d7b",
   "metadata": {},
   "outputs": [],
   "source": [
    "plt.imshow(np.abs(corr_img_ft), cmap='gray', origin='lower')"
   ]
  },
  {
   "cell_type": "code",
   "execution_count": null,
   "id": "e795cf8b",
   "metadata": {},
   "outputs": [],
   "source": [
    "re_corr_img = ifft2(corr_img_ft)"
   ]
  },
  {
   "cell_type": "code",
   "execution_count": null,
   "id": "b6e004ec",
   "metadata": {},
   "outputs": [],
   "source": [
    "plt.imshow(np.abs(np.fft.fftshift(re_corr_img)), cmap='gray', origin='lower')"
   ]
  },
  {
   "cell_type": "code",
   "execution_count": null,
   "id": "4492d530",
   "metadata": {},
   "outputs": [],
   "source": [
    "np.unravel_index(np.argmax(np.abs(re_corr_img)), re_corr_img.shape)"
   ]
  },
  {
   "cell_type": "code",
   "execution_count": null,
   "id": "4ad551ca",
   "metadata": {},
   "outputs": [],
   "source": [
    "def getSubPixelShift(s, ind):\n",
    "    NX = NY = 128\n",
    "    XIND = ind%NX\n",
    "    YIND = ind//NX\n",
    "    nn = nz = npp = zn = zz = zp = pn = pz = pp = a2 = a3 = a4 = a5 = a6 = 0\n",
    "    coeff = np.zeros(9)\n",
    "    k = 0\n",
    "    for j in range(-1, 2):\n",
    "        for i in range(-1, 2):\n",
    "            nei_y = YIND + j\n",
    "            nei_x = XIND + i\n",
    "            if nei_x < 0:\n",
    "                nei_x += NX\n",
    "            elif nei_x >= NX:\n",
    "                nei_x -= NX\n",
    "            if nei_y < 0:\n",
    "                nei_y += NY\n",
    "            elif nei_y >= NY:\n",
    "                nei_y -= NY\n",
    "            coeff[k] = s[nei_y][nei_x]\n",
    "            k += 1\n",
    "\n",
    "    nn = coeff[0]\n",
    "    nz = coeff[1]\n",
    "    npp = coeff[2]\n",
    "    zn = coeff[3]\n",
    "    zz = coeff[4]\n",
    "    zp = coeff[5]\n",
    "    pn = coeff[6]\n",
    "    pz = coeff[7]\n",
    "    pp = coeff[8]\n",
    "    xshf = XIND\n",
    "    yshf = YIND\n",
    "    if XIND>(NX/2) - 1:\n",
    "        xshf = XIND - (NX)\n",
    "    if YIND>(NY/2) -  1:\n",
    "        yshf = YIND - (NY)\n",
    "    a2 = 0.5 * (zp - zn);\n",
    "    a3 = 0.5 * (zp - 2*zz + zn);\n",
    "    a4 = 0.5 * (pz - nz);\n",
    "    a5 = 0.5 * (pz - 2*zz + nz);\n",
    "    a6 = 0.25 * (pp + nn - pn - npp);\n",
    "    XYIND = np.zeros(2)\n",
    "    XYIND[0]= xshf + (a4*a6-2*a2*a5)/(4*a3*a5-np.power(a6,2))\n",
    "    XYIND[1] = yshf + (a2*a6-2*a3*a4)/(4*a3*a5-np.power(a6,2))\n",
    "    return XYIND\n"
   ]
  },
  {
   "cell_type": "code",
   "execution_count": null,
   "id": "37bf12fa",
   "metadata": {},
   "outputs": [],
   "source": [
    "getSubPixelShift(re_corr_img.real, 127)"
   ]
  },
  {
   "cell_type": "code",
   "execution_count": 7,
   "id": "ae8531b1",
   "metadata": {},
   "outputs": [
    {
     "data": {
      "text/plain": [
       "-18.9"
      ]
     },
     "execution_count": 7,
     "metadata": {},
     "output_type": "execute_result"
    }
   ],
   "source": [
    "-0.006*0 - 0.63*30"
   ]
  },
  {
   "cell_type": "code",
   "execution_count": null,
   "id": "ce470a4b",
   "metadata": {},
   "outputs": [],
   "source": [
    "-20*57"
   ]
  },
  {
   "cell_type": "code",
   "execution_count": 28,
   "id": "d859cab4",
   "metadata": {},
   "outputs": [
    {
     "data": {
      "text/plain": [
       "array([[-0.05      , -0.        ],\n",
       "       [-0.        , -0.03333333]])"
      ]
     },
     "execution_count": 28,
     "metadata": {},
     "output_type": "execute_result"
    }
   ],
   "source": [
    "np.linalg.inv([[-20, 0], [0, -30]])"
   ]
  },
  {
   "cell_type": "code",
   "execution_count": 88,
   "id": "4553f2f8",
   "metadata": {},
   "outputs": [
    {
     "data": {
      "text/plain": [
       "array([-20, -15, -10,  -5,   0,   5,  10,  15,  20,  25,  30,  35,  40,\n",
       "        45,  50,  55,  60,  65,  70,  75,  80,  85,  90,  95, 100, 105,\n",
       "       110, 115, 120, 125, 130])"
      ]
     },
     "execution_count": 88,
     "metadata": {},
     "output_type": "execute_result"
    }
   ],
   "source": [
    "np.arange(-20, 135, 5)"
   ]
  },
  {
   "cell_type": "code",
   "execution_count": null,
   "id": "487fb0aa",
   "metadata": {},
   "outputs": [],
   "source": []
  }
 ],
 "metadata": {
  "kernelspec": {
   "display_name": "Python 3 (ipykernel)",
   "language": "python",
   "name": "python3"
  },
  "language_info": {
   "codemirror_mode": {
    "name": "ipython",
    "version": 3
   },
   "file_extension": ".py",
   "mimetype": "text/x-python",
   "name": "python",
   "nbconvert_exporter": "python",
   "pygments_lexer": "ipython3",
   "version": "3.9.7"
  }
 },
 "nbformat": 4,
 "nbformat_minor": 5
}
