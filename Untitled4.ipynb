{
 "cells": [
  {
   "cell_type": "code",
   "execution_count": 1,
   "id": "10f0eb6f",
   "metadata": {},
   "outputs": [],
   "source": [
    "%matplotlib qt5\n",
    "import numpy as np\n",
    "from pathlib import Path\n",
    "from numpy import genfromtxt\n",
    "import matplotlib.pyplot as plt\n",
    "import scipy\n",
    "import scipy.signal\n",
    "from scipy.fft import ifft2, fft2"
   ]
  },
  {
   "cell_type": "code",
   "execution_count": 12,
   "id": "cfdadb1d",
   "metadata": {},
   "outputs": [],
   "source": [
    "base_path = Path('F:\\\\tiptilt\\\\20230423_091523')"
   ]
  },
  {
   "cell_type": "code",
   "execution_count": 13,
   "id": "210c010f",
   "metadata": {},
   "outputs": [],
   "source": [
    "shifts = genfromtxt(base_path / 'Shifts_Uncorrected.csv', delimiter=',', invalid_raise=False)"
   ]
  },
  {
   "cell_type": "code",
   "execution_count": 37,
   "id": "2c0d62d4",
   "metadata": {},
   "outputs": [
    {
     "data": {
      "text/plain": [
       "(125, 12)"
      ]
     },
     "execution_count": 37,
     "metadata": {},
     "output_type": "execute_result"
    }
   ],
   "source": [
    "shifts.shape"
   ]
  },
  {
   "cell_type": "code",
   "execution_count": 22,
   "id": "8f1d3fc5",
   "metadata": {},
   "outputs": [
    {
     "data": {
      "text/plain": [
       "array([ 2.520000e+02,  2.530000e+02,  6.356789e+00,  1.576626e+00,\n",
       "        0.000000e+00,  0.000000e+00,  6.201390e-01,  3.319600e-02,\n",
       "        1.395385e+00,  3.219640e-01, -7.327840e-01, -8.063610e-01])"
      ]
     },
     "execution_count": 22,
     "metadata": {},
     "output_type": "execute_result"
    }
   ],
   "source": [
    "shifts[251]"
   ]
  },
  {
   "cell_type": "code",
   "execution_count": 15,
   "id": "a72320fd",
   "metadata": {},
   "outputs": [
    {
     "data": {
      "text/plain": [
       "[<matplotlib.lines.Line2D at 0x10264f58>]"
      ]
     },
     "execution_count": 15,
     "metadata": {},
     "output_type": "execute_result"
    }
   ],
   "source": [
    "plt.plot(shifts[:, 3])\n",
    "# plt.ylim(-12, 12)"
   ]
  },
  {
   "cell_type": "code",
   "execution_count": 3,
   "id": "14803211",
   "metadata": {},
   "outputs": [],
   "source": [
    "ref = np.fromfile(base_path / 'Ref.dat', dtype=np.float64).re\n",
    "\n",
    "shape(128, 128)"
   ]
  },
  {
   "cell_type": "code",
   "execution_count": 4,
   "id": "4dfeb33b",
   "metadata": {},
   "outputs": [
    {
     "data": {
      "text/plain": [
       "<matplotlib.image.AxesImage at 0xcd69b20>"
      ]
     },
     "execution_count": 4,
     "metadata": {},
     "output_type": "execute_result"
    }
   ],
   "source": [
    "plt.imshow(ref, cmap='gray', origin='lower')"
   ]
  },
  {
   "cell_type": "code",
   "execution_count": 5,
   "id": "dcdbd1b9",
   "metadata": {},
   "outputs": [],
   "source": [
    "corr_image = np.fromfile(base_path / 'CorrelatedImage_286.dat', dtype=np.float64).reshape(128, 128)"
   ]
  },
  {
   "cell_type": "code",
   "execution_count": 6,
   "id": "68fb94b4",
   "metadata": {},
   "outputs": [
    {
     "data": {
      "text/plain": [
       "<matplotlib.image.AxesImage at 0xd594928>"
      ]
     },
     "execution_count": 6,
     "metadata": {},
     "output_type": "execute_result"
    }
   ],
   "source": [
    "plt.imshow(corr_image, cmap='gray', origin='lower')"
   ]
  },
  {
   "cell_type": "code",
   "execution_count": 7,
   "id": "7c6f4d69",
   "metadata": {},
   "outputs": [],
   "source": [
    "new_image = np.fromfile(base_path / 'CurrentImage_286.dat', dtype=np.float64).reshape(128, 128)"
   ]
  },
  {
   "cell_type": "code",
   "execution_count": 8,
   "id": "dbff53d4",
   "metadata": {},
   "outputs": [
    {
     "data": {
      "text/plain": [
       "<matplotlib.image.AxesImage at 0xb330b50>"
      ]
     },
     "execution_count": 8,
     "metadata": {},
     "output_type": "execute_result"
    }
   ],
   "source": [
    "plt.imshow(new_image, cmap='gray', origin='lower')"
   ]
  },
  {
   "cell_type": "code",
   "execution_count": 82,
   "id": "e56b3288",
   "metadata": {},
   "outputs": [],
   "source": [
    "ref[np.where(ref < 0)] = 0\n",
    "new_image[np.where(new_image < 0)] = 0"
   ]
  },
  {
   "cell_type": "code",
   "execution_count": 12,
   "id": "9bc9f837",
   "metadata": {},
   "outputs": [],
   "source": [
    "fft_ref = fft2(ref)"
   ]
  },
  {
   "cell_type": "code",
   "execution_count": 13,
   "id": "b226eca2",
   "metadata": {},
   "outputs": [],
   "source": [
    "fft_new = fft2(new_image)"
   ]
  },
  {
   "cell_type": "code",
   "execution_count": 14,
   "id": "e3ba047b",
   "metadata": {},
   "outputs": [],
   "source": [
    "corr_img_ft = np.zeros_like(fft_ref)"
   ]
  },
  {
   "cell_type": "code",
   "execution_count": 16,
   "id": "be0e56c4",
   "metadata": {},
   "outputs": [],
   "source": [
    "corr_img_ft.real = (fft_new.real * fft_ref.real) +  (fft_new.imag * fft_ref.imag)\n",
    "corr_img_ft.imag = (fft_new.imag * fft_ref.real) -  (fft_new.real * fft_ref.imag)"
   ]
  },
  {
   "cell_type": "code",
   "execution_count": 17,
   "id": "cef08d7b",
   "metadata": {},
   "outputs": [
    {
     "data": {
      "text/plain": [
       "<matplotlib.image.AxesImage at 0xe79310>"
      ]
     },
     "execution_count": 17,
     "metadata": {},
     "output_type": "execute_result"
    }
   ],
   "source": [
    "plt.imshow(np.abs(corr_img_ft), cmap='gray', origin='lower')"
   ]
  },
  {
   "cell_type": "code",
   "execution_count": 18,
   "id": "e795cf8b",
   "metadata": {},
   "outputs": [],
   "source": [
    "re_corr_img = ifft2(corr_img_ft)"
   ]
  },
  {
   "cell_type": "code",
   "execution_count": 19,
   "id": "b6e004ec",
   "metadata": {},
   "outputs": [
    {
     "data": {
      "text/plain": [
       "<matplotlib.image.AxesImage at 0x1165208>"
      ]
     },
     "execution_count": 19,
     "metadata": {},
     "output_type": "execute_result"
    }
   ],
   "source": [
    "plt.imshow(re_corr_img.real, cmap='gray', origin='lower')"
   ]
  },
  {
   "cell_type": "code",
   "execution_count": 23,
   "id": "4492d530",
   "metadata": {},
   "outputs": [
    {
     "data": {
      "text/plain": [
       "127"
      ]
     },
     "execution_count": 23,
     "metadata": {},
     "output_type": "execute_result"
    }
   ],
   "source": [
    "np.argmax(re_corr_img)"
   ]
  },
  {
   "cell_type": "code",
   "execution_count": 31,
   "id": "4ad551ca",
   "metadata": {},
   "outputs": [],
   "source": [
    "def getSubPixelShift(s, ind):\n",
    "    NX = NY = 128\n",
    "    XIND = ind%NX\n",
    "    YIND = ind//NX\n",
    "    nn = nz = npp = zn = zz = zp = pn = pz = pp = a2 = a3 = a4 = a5 = a6 = 0\n",
    "    coeff = np.zeros(9)\n",
    "    k = 0\n",
    "    for j in range(-1, 2):\n",
    "        for i in range(-1, 2):\n",
    "            nei_y = YIND + j\n",
    "            nei_x = XIND + i\n",
    "            if nei_x < 0:\n",
    "                nei_x += NX\n",
    "            elif nei_x >= NX:\n",
    "                nei_x -= NX\n",
    "            if nei_y < 0:\n",
    "                nei_y += NY\n",
    "            elif nei_y >= NY:\n",
    "                nei_y -= NY\n",
    "            coeff[k] = s[nei_y][nei_x]\n",
    "            k += 1\n",
    "\n",
    "    nn = coeff[0]\n",
    "    nz = coeff[1]\n",
    "    npp = coeff[2]\n",
    "    zn = coeff[3]\n",
    "    zz = coeff[4]\n",
    "    zp = coeff[5]\n",
    "    pn = coeff[6]\n",
    "    pz = coeff[7]\n",
    "    pp = coeff[8]\n",
    "    xshf = XIND\n",
    "    yshf = YIND\n",
    "    if XIND>(NX/2) - 1:\n",
    "        xshf = XIND - (NX)\n",
    "    if YIND>(NY/2) -  1:\n",
    "        yshf = YIND - (NY)\n",
    "    a2 = 0.5 * (zp - zn);\n",
    "    a3 = 0.5 * (zp - 2*zz + zn);\n",
    "    a4 = 0.5 * (pz - nz);\n",
    "    a5 = 0.5 * (pz - 2*zz + nz);\n",
    "    a6 = 0.25 * (pp + nn - pn - npp);\n",
    "    XYIND = np.zeros(2)\n",
    "    XYIND[0]= xshf + (a4*a6-2*a2*a5)/(4*a3*a5-np.power(a6,2))\n",
    "    XYIND[1] = yshf + (a2*a6-2*a3*a4)/(4*a3*a5-np.power(a6,2))\n",
    "    return XYIND\n"
   ]
  },
  {
   "cell_type": "code",
   "execution_count": 35,
   "id": "37bf12fa",
   "metadata": {},
   "outputs": [
    {
     "data": {
      "text/plain": [
       "array([-0.575288  ,  0.20686673])"
      ]
     },
     "execution_count": 35,
     "metadata": {},
     "output_type": "execute_result"
    }
   ],
   "source": [
    "getSubPixelShift(re_corr_img.real, 127)"
   ]
  },
  {
   "cell_type": "code",
   "execution_count": null,
   "id": "ae8531b1",
   "metadata": {},
   "outputs": [],
   "source": []
  }
 ],
 "metadata": {
  "kernelspec": {
   "display_name": "Python 3 (ipykernel)",
   "language": "python",
   "name": "python3"
  },
  "language_info": {
   "codemirror_mode": {
    "name": "ipython",
    "version": 3
   },
   "file_extension": ".py",
   "mimetype": "text/x-python",
   "name": "python",
   "nbconvert_exporter": "python",
   "pygments_lexer": "ipython3",
   "version": "3.9.7"
  }
 },
 "nbformat": 4,
 "nbformat_minor": 5
}
