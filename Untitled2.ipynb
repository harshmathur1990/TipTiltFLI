{
 "cells": [
  {
   "cell_type": "code",
   "execution_count": null,
   "id": "b6bbf2c2",
   "metadata": {},
   "outputs": [],
   "source": [
    "%matplotlib qt5\n",
    "import matplotlib.pyplot as plt\n",
    "import numpy as np\n",
    "from pathlib import Path\n",
    "import time\n",
    "import matplotlib.animation as animation\n",
    "from matplotlib import style"
   ]
  },
  {
   "cell_type": "code",
   "execution_count": 8,
   "id": "779674b0",
   "metadata": {},
   "outputs": [],
   "source": [
    "base_path = Path('F:\\\\tiptilt')"
   ]
  },
  {
   "cell_type": "code",
   "execution_count": 9,
   "id": "7d95ecce",
   "metadata": {},
   "outputs": [],
   "source": [
    "chosen_folder = base_path / '20230303_114448'"
   ]
  },
  {
   "cell_type": "code",
   "execution_count": 10,
   "id": "c985f2bf",
   "metadata": {},
   "outputs": [],
   "source": [
    "flat_file_path = Path('C:\\\\Users\\\\IIAP-IPC\\\\Desktop\\\\harsh\\\\TipTiltFLI-master\\\\cmake-build-debug\\\\MeanFlat.dat')\n",
    "dark_file_path = Path('C:\\\\Users\\\\IIAP-IPC\\\\Desktop\\\\harsh\\\\TipTiltFLI-master\\\\cmake-build-debug\\\\MeanDark.dat')\n",
    "master_dark = np.loadtxt(dark_file_path).reshape(128, 128)\n",
    "master_flat = np.loadtxt(flat_file_path).reshape(128, 128)"
   ]
  },
  {
   "cell_type": "code",
   "execution_count": 39,
   "id": "4404a15a",
   "metadata": {},
   "outputs": [],
   "source": [
    "fig, ax1 = plt.subplots(1, 1)\n",
    "im = ax1.imshow(np.zeros((128, 128)), cmap='gray', origin='lower')\n",
    "text = fig.text(0.5, 0.005, '2', fontsize=12)\n",
    "def animate(i):\n",
    "    global im, text\n",
    "    if i < 10:\n",
    "        file_format = 'X_frame_00000{}_000001_Cur.dat'\n",
    "    elif i < 100:\n",
    "        file_format = 'X_frame_0000{}_000001_Cur.dat'\n",
    "    else:\n",
    "        file_format = 'X_frame_000{}_000001_Cur.dat'\n",
    "    filename = chosen_folder / file_format.format(i)\n",
    "    if filename.exists():\n",
    "        img = np.loadtxt(filename).reshape(128, 128)\n",
    "        img = (img - master_dark) / (master_flat - master_dark)\n",
    "        im.set_array(img)\n",
    "        text.set_text('Frame {}'.format(i))\n",
    "        im.set_clim(img.min(), img.max())\n",
    "    return [im]\n",
    "ani = animation.FuncAnimation(fig, animate, interval=30, blit=False)"
   ]
  },
  {
   "cell_type": "code",
   "execution_count": null,
   "id": "5fdad5c2",
   "metadata": {},
   "outputs": [],
   "source": []
  },
  {
   "cell_type": "code",
   "execution_count": null,
   "id": "c983271c",
   "metadata": {},
   "outputs": [],
   "source": []
  },
  {
   "cell_type": "code",
   "execution_count": null,
   "id": "993716c2",
   "metadata": {},
   "outputs": [],
   "source": []
  },
  {
   "cell_type": "code",
   "execution_count": null,
   "id": "eff8256c",
   "metadata": {},
   "outputs": [],
   "source": []
  },
  {
   "cell_type": "code",
   "execution_count": null,
   "id": "f60f3f2c",
   "metadata": {},
   "outputs": [],
   "source": []
  },
  {
   "cell_type": "code",
   "execution_count": null,
   "id": "36caf2f4",
   "metadata": {},
   "outputs": [],
   "source": []
  },
  {
   "cell_type": "code",
   "execution_count": null,
   "id": "a6712003",
   "metadata": {},
   "outputs": [],
   "source": []
  },
  {
   "cell_type": "code",
   "execution_count": null,
   "id": "6b24ddd9",
   "metadata": {},
   "outputs": [],
   "source": [
    "count = 10\n",
    "# file_format = 'frame_{}_curr.dat'\n",
    "file_format = 'X_frame_0000{}_000001_Cur.dat'\n",
    "filename = chosen_folder / file_format.format(count)\n",
    "print(filename)\n",
    "if filename.exists():\n",
    "    img = np.loadtxt(filename).reshape(128, 128)\n",
    "    im0 = plt.gca().imshow(img, cmap='gray', origin='lower')\n",
    "    count += 1\n",
    "    while (1):\n",
    "        if count > 99:\n",
    "            break\n",
    "        filename = chosen_folder / file_format.format(count)\n",
    "        if filename.exists():\n",
    "            img = np.loadtxt(filename).reshape(128, 128)\n",
    "            im0.set_data(img)\n",
    "            plt.draw()\n",
    "        else:\n",
    "            break\n",
    "        count += 1\n",
    "#         time.sleep(1)\n",
    "        plt.gcf().suptitle('{}'.format(count))\n",
    "else:\n",
    "    print (\"Doesn't exist\")"
   ]
  },
  {
   "cell_type": "code",
   "execution_count": 1,
   "id": "3a91db69",
   "metadata": {},
   "outputs": [],
   "source": [
    "import cv2\n",
    "from pathlib import Path\n",
    "import numpy as np"
   ]
  },
  {
   "cell_type": "code",
   "execution_count": null,
   "id": "83640505",
   "metadata": {},
   "outputs": [
    {
     "name": "stdout",
     "output_type": "stream",
     "text": [
      "10\n",
      "F:\\tiptilt\\20230303_114448\\X_frame_000010_000001_Cur.dat\n",
      "11\n",
      "F:\\tiptilt\\20230303_114448\\X_frame_000011_000001_Cur.dat\n",
      "12\n",
      "F:\\tiptilt\\20230303_114448\\X_frame_000012_000001_Cur.dat\n",
      "13\n",
      "F:\\tiptilt\\20230303_114448\\X_frame_000013_000001_Cur.dat\n",
      "14\n",
      "F:\\tiptilt\\20230303_114448\\X_frame_000014_000001_Cur.dat\n",
      "15\n",
      "F:\\tiptilt\\20230303_114448\\X_frame_000015_000001_Cur.dat\n",
      "16\n",
      "F:\\tiptilt\\20230303_114448\\X_frame_000016_000001_Cur.dat\n"
     ]
    }
   ],
   "source": [
    "width, height = 640, 480\n",
    "fps=30\n",
    "fourcc = cv2.VideoWriter_fourcc(*\"mp4v\")\n",
    "out = cv2.VideoWriter(\"output.mp4\", fourcc, fps, (width, height))\n",
    "cv2.namedWindow(\"Live\")\n",
    "count = 10\n",
    "file_format = 'X_frame_0000{}_000001_Cur.dat'\n",
    "base_path = Path('F:\\\\tiptilt')\n",
    "chosen_folder = base_path / '20230303_114448'\n",
    "while True:\n",
    "    print (count)\n",
    "    filename = chosen_folder / file_format.format(count)\n",
    "    print(filename)\n",
    "    if filename.exists():\n",
    "        img = np.loadtxt(filename).reshape(128, 128)\n",
    "        cv2.imshow(\"Count {}\".format(count), img)\n",
    "        cv2.waitKey(0)\n",
    "    else:\n",
    "        break\n",
    "    count += 1\n",
    "out.release()\n",
    "cv2.destroyAllWindows()"
   ]
  },
  {
   "cell_type": "code",
   "execution_count": null,
   "id": "1af54e17",
   "metadata": {},
   "outputs": [],
   "source": []
  },
  {
   "cell_type": "code",
   "execution_count": null,
   "id": "5f929ee4",
   "metadata": {},
   "outputs": [],
   "source": []
  },
  {
   "cell_type": "code",
   "execution_count": null,
   "id": "5b6729c8",
   "metadata": {},
   "outputs": [],
   "source": []
  }
 ],
 "metadata": {
  "kernelspec": {
   "display_name": "Python 3 (ipykernel)",
   "language": "python",
   "name": "python3"
  },
  "language_info": {
   "codemirror_mode": {
    "name": "ipython",
    "version": 3
   },
   "file_extension": ".py",
   "mimetype": "text/x-python",
   "name": "python",
   "nbconvert_exporter": "python",
   "pygments_lexer": "ipython3",
   "version": "3.9.7"
  }
 },
 "nbformat": 4,
 "nbformat_minor": 5
}
