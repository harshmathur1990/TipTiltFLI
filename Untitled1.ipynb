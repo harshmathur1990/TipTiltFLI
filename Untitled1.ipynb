{
 "cells": [
  {
   "cell_type": "code",
   "execution_count": 1,
   "id": "029f4ce2",
   "metadata": {},
   "outputs": [],
   "source": [
    "import numpy as np\n",
    "import struct\n",
    "from pathlib import Path\n",
    "import matplotlib.pyplot as plt\n",
    "from numpy import genfromtxt\n",
    "%matplotlib qt5"
   ]
  },
  {
   "cell_type": "code",
   "execution_count": 3,
   "id": "b504afd4",
   "metadata": {},
   "outputs": [],
   "source": [
    "flat_file_path = Path('C:\\\\Users\\\\IIAP-IPC\\\\Desktop\\\\harsh\\\\TipTiltFLI-master\\\\cmake-build-debug\\\\MeanFlat.dat')\n",
    "dark_file_path = Path('C:\\\\Users\\\\IIAP-IPC\\\\Desktop\\\\harsh\\\\TipTiltFLI-master\\\\cmake-build-debug\\\\MeanDark.dat')\n",
    "master_dark = np.loadtxt(dark_file_path).reshape(128, 128)\n",
    "master_flat = np.loadtxt(flat_file_path).reshape(128, 128)"
   ]
  },
  {
   "cell_type": "code",
   "execution_count": 6,
   "id": "c8c4ee5e",
   "metadata": {},
   "outputs": [],
   "source": [
    "base_path = Path('F:\\\\tiptilt\\\\20230418_142613')"
   ]
  },
  {
   "cell_type": "code",
   "execution_count": 9,
   "id": "120d61d5",
   "metadata": {},
   "outputs": [],
   "source": [
    "ref_image = np.fromfile(base_path / 'Corr_Curr_0.dat', dtype=np.float64).reshape(128, 128)"
   ]
  },
  {
   "cell_type": "code",
   "execution_count": 10,
   "id": "56072671",
   "metadata": {},
   "outputs": [
    {
     "data": {
      "text/plain": [
       "<matplotlib.image.AxesImage at 0x1543670>"
      ]
     },
     "execution_count": 10,
     "metadata": {},
     "output_type": "execute_result"
    }
   ],
   "source": [
    "plt.imshow(ref_image, cmap='gray', origin='lower')"
   ]
  },
  {
   "cell_type": "code",
   "execution_count": 57,
   "id": "6a4db34f",
   "metadata": {},
   "outputs": [],
   "source": [
    "ref_corr = (ref_image - master_dark) / (master_flat - master_dark)"
   ]
  },
  {
   "cell_type": "code",
   "execution_count": 58,
   "id": "a39b05ba",
   "metadata": {},
   "outputs": [
    {
     "data": {
      "text/plain": [
       "<matplotlib.image.AxesImage at 0x16bd490>"
      ]
     },
     "execution_count": 58,
     "metadata": {},
     "output_type": "execute_result"
    }
   ],
   "source": [
    "plt.imshow(ref_corr, cmap='gray', origin='lower')"
   ]
  },
  {
   "cell_type": "code",
   "execution_count": 63,
   "id": "2f1918dc",
   "metadata": {},
   "outputs": [],
   "source": [
    "curr_image = np.fromfile(base_path / 'frame_38_curr.dat', dtype='H').reshape(256, 256)"
   ]
  },
  {
   "cell_type": "code",
   "execution_count": 64,
   "id": "489ddbdf",
   "metadata": {},
   "outputs": [],
   "source": [
    "curr_corr = (curr_image - master_dark) / (master_flat - master_dark)"
   ]
  },
  {
   "cell_type": "code",
   "execution_count": 65,
   "id": "68f0458e",
   "metadata": {},
   "outputs": [],
   "source": [
    "# plt.imshow(curr_corr, cmap='gray', origin='lower')"
   ]
  },
  {
   "cell_type": "code",
   "execution_count": 66,
   "id": "453484e1",
   "metadata": {},
   "outputs": [
    {
     "data": {
      "text/plain": [
       "<matplotlib.image.AxesImage at 0xbb07b20>"
      ]
     },
     "execution_count": 66,
     "metadata": {},
     "output_type": "execute_result"
    }
   ],
   "source": [
    "fig, axs = plt.subplots(1, 2)\n",
    "axs[0].imshow(ref_corr, cmap='gray', origin='upper')\n",
    "axs[1].imshow(curr_corr, cmap='gray', origin='upper')"
   ]
  },
  {
   "cell_type": "code",
   "execution_count": 32,
   "id": "8df05107",
   "metadata": {},
   "outputs": [],
   "source": [
    "curr_image2 = np.fromfile(base_path / 'frame_19_curr.dat', dtype='H').reshape(256, 256)"
   ]
  },
  {
   "cell_type": "code",
   "execution_count": 33,
   "id": "25987949",
   "metadata": {},
   "outputs": [],
   "source": [
    "curr_corr2 = (curr_image2 - master_dark) / (master_flat - master_dark)"
   ]
  },
  {
   "cell_type": "code",
   "execution_count": 34,
   "id": "caea2673",
   "metadata": {},
   "outputs": [
    {
     "data": {
      "text/plain": [
       "False"
      ]
     },
     "execution_count": 34,
     "metadata": {},
     "output_type": "execute_result"
    }
   ],
   "source": [
    "np.array_equal(curr_image, curr_image2)"
   ]
  },
  {
   "cell_type": "code",
   "execution_count": 16,
   "id": "00661230",
   "metadata": {},
   "outputs": [],
   "source": [
    "am = np.array([[-0.63, -0.16], [-0.004, -1.021]])"
   ]
  },
  {
   "cell_type": "code",
   "execution_count": 17,
   "id": "0bbce791",
   "metadata": {},
   "outputs": [
    {
     "data": {
      "text/plain": [
       "array([ 1.11418800e-03, -3.73810051e+00])"
      ]
     },
     "execution_count": 17,
     "metadata": {},
     "output_type": "execute_result"
    }
   ],
   "source": [
    "am[1] * np.array([-0.278547, 3.661215])"
   ]
  },
  {
   "cell_type": "code",
   "execution_count": 44,
   "id": "743e86b4",
   "metadata": {},
   "outputs": [],
   "source": [
    "calm = np.array([[-1.58699, 0.2648], [0.00712262, -0.98538]])"
   ]
  },
  {
   "cell_type": "code",
   "execution_count": 45,
   "id": "b04e944a",
   "metadata": {},
   "outputs": [
    {
     "data": {
      "text/plain": [
       "array([[-0.6308846 , -0.16953687],\n",
       "       [-0.00456022, -1.01606238]])"
      ]
     },
     "execution_count": 45,
     "metadata": {},
     "output_type": "execute_result"
    }
   ],
   "source": [
    "np.linalg.inv(calm)"
   ]
  },
  {
   "cell_type": "code",
   "execution_count": 4,
   "id": "8c4548df",
   "metadata": {},
   "outputs": [],
   "source": [
    "from numpy import genfromtxt"
   ]
  },
  {
   "cell_type": "code",
   "execution_count": 5,
   "id": "66f1083a",
   "metadata": {},
   "outputs": [
    {
     "ename": "ValueError",
     "evalue": "Some errors were detected !\n    Line #68 (got 7 columns instead of 12)\n    Line #369 (got 7 columns instead of 12)\n    Line #467 (got 7 columns instead of 12)\n    Line #481 (got 6 columns instead of 12)\n    Line #1129 (got 7 columns instead of 12)\n    Line #1204 (got 7 columns instead of 12)\n    Line #1235 (got 7 columns instead of 12)\n    Line #1267 (got 7 columns instead of 12)\n    Line #2493 (got 7 columns instead of 12)\n    Line #2515 (got 7 columns instead of 12)\n    Line #2624 (got 7 columns instead of 12)\n    Line #2925 (got 7 columns instead of 12)\n    Line #2942 (got 23 columns instead of 12)\n    Line #2956 (got 7 columns instead of 12)\n    Line #3389 (got 7 columns instead of 12)\n    Line #3534 (got 23 columns instead of 12)\n    Line #3918 (got 7 columns instead of 12)\n    Line #3954 (got 7 columns instead of 12)\n    Line #5041 (got 7 columns instead of 12)\n    Line #5286 (got 15 columns instead of 12)\n    Line #5606 (got 8 columns instead of 12)\n    Line #5764 (got 7 columns instead of 12)\n    Line #6563 (got 7 columns instead of 12)\n    Line #7202 (got 7 columns instead of 12)\n    Line #7284 (got 7 columns instead of 12)\n    Line #7632 (got 23 columns instead of 12)\n    Line #7636 (got 7 columns instead of 12)\n    Line #7767 (got 11 columns instead of 12)\n    Line #7825 (got 7 columns instead of 12)\n    Line #7862 (got 7 columns instead of 12)\n    Line #8099 (got 7 columns instead of 12)\n    Line #8110 (got 7 columns instead of 12)\n    Line #8280 (got 7 columns instead of 12)\n    Line #8639 (got 7 columns instead of 12)\n    Line #8830 (got 6 columns instead of 12)\n    Line #8928 (got 7 columns instead of 12)\n    Line #8935 (got 7 columns instead of 12)\n    Line #9136 (got 7 columns instead of 12)\n    Line #9141 (got 7 columns instead of 12)\n    Line #9504 (got 7 columns instead of 12)\n    Line #9536 (got 7 columns instead of 12)\n    Line #9631 (got 7 columns instead of 12)\n    Line #9690 (got 8 columns instead of 12)\n    Line #9945 (got 23 columns instead of 12)\n    Line #10043 (got 11 columns instead of 12)\n    Line #10193 (got 7 columns instead of 12)\n    Line #10406 (got 7 columns instead of 12)\n    Line #10651 (got 7 columns instead of 12)\n    Line #10689 (got 7 columns instead of 12)\n    Line #10990 (got 7 columns instead of 12)\n    Line #11191 (got 7 columns instead of 12)\n    Line #11771 (got 7 columns instead of 12)\n    Line #12150 (got 23 columns instead of 12)\n    Line #12215 (got 7 columns instead of 12)\n    Line #12570 (got 7 columns instead of 12)\n    Line #12668 (got 7 columns instead of 12)\n    Line #12982 (got 5 columns instead of 12)\n    Line #13209 (got 6 columns instead of 12)\n    Line #13227 (got 7 columns instead of 12)\n    Line #13324 (got 5 columns instead of 12)\n    Line #13379 (got 7 columns instead of 12)\n    Line #13388 (got 11 columns instead of 12)\n    Line #13430 (got 7 columns instead of 12)\n    Line #13646 (got 7 columns instead of 12)\n    Line #13870 (got 14 columns instead of 12)\n    Line #13871 (got 13 columns instead of 12)\n    Line #13913 (got 7 columns instead of 12)\n    Line #14033 (got 11 columns instead of 12)\n    Line #14136 (got 7 columns instead of 12)\n    Line #14358 (got 6 columns instead of 12)\n    Line #14397 (got 7 columns instead of 12)\n    Line #14419 (got 7 columns instead of 12)\n    Line #14467 (got 7 columns instead of 12)\n    Line #14528 (got 7 columns instead of 12)\n    Line #14788 (got 7 columns instead of 12)\n    Line #15070 (got 7 columns instead of 12)\n    Line #15205 (got 7 columns instead of 12)\n    Line #15318 (got 7 columns instead of 12)\n    Line #15450 (got 7 columns instead of 12)\n    Line #15485 (got 7 columns instead of 12)\n    Line #15501 (got 11 columns instead of 12)\n    Line #15587 (got 7 columns instead of 12)\n    Line #15765 (got 7 columns instead of 12)\n    Line #15866 (got 7 columns instead of 12)\n    Line #15873 (got 7 columns instead of 12)\n    Line #16088 (got 7 columns instead of 12)\n    Line #16521 (got 7 columns instead of 12)\n    Line #16956 (got 7 columns instead of 12)\n    Line #16997 (got 11 columns instead of 12)\n    Line #17077 (got 23 columns instead of 12)\n    Line #17144 (got 7 columns instead of 12)\n    Line #17379 (got 7 columns instead of 12)\n    Line #18023 (got 7 columns instead of 12)\n    Line #18143 (got 7 columns instead of 12)\n    Line #18506 (got 7 columns instead of 12)\n    Line #18725 (got 7 columns instead of 12)\n    Line #18773 (got 7 columns instead of 12)\n    Line #18878 (got 7 columns instead of 12)\n    Line #18981 (got 7 columns instead of 12)\n    Line #19405 (got 7 columns instead of 12)\n    Line #19527 (got 7 columns instead of 12)\n    Line #19684 (got 7 columns instead of 12)\n    Line #19750 (got 6 columns instead of 12)\n    Line #19920 (got 7 columns instead of 12)\n    Line #20564 (got 7 columns instead of 12)\n    Line #20682 (got 7 columns instead of 12)\n    Line #20767 (got 7 columns instead of 12)\n    Line #20855 (got 7 columns instead of 12)\n    Line #21167 (got 7 columns instead of 12)\n    Line #21527 (got 7 columns instead of 12)\n    Line #21667 (got 7 columns instead of 12)\n    Line #21714 (got 7 columns instead of 12)\n    Line #21769 (got 7 columns instead of 12)\n    Line #22312 (got 11 columns instead of 12)\n    Line #22435 (got 7 columns instead of 12)\n    Line #22762 (got 7 columns instead of 12)\n    Line #22823 (got 7 columns instead of 12)\n    Line #22845 (got 7 columns instead of 12)\n    Line #23138 (got 13 columns instead of 12)\n    Line #23473 (got 7 columns instead of 12)\n    Line #23902 (got 6 columns instead of 12)\n    Line #24150 (got 7 columns instead of 12)\n    Line #24156 (got 7 columns instead of 12)\n    Line #24229 (got 9 columns instead of 12)\n    Line #24247 (got 7 columns instead of 12)\n    Line #24325 (got 7 columns instead of 12)\n    Line #24365 (got 11 columns instead of 12)\n    Line #24430 (got 7 columns instead of 12)\n    Line #24518 (got 7 columns instead of 12)\n    Line #24782 (got 7 columns instead of 12)\n    Line #24863 (got 7 columns instead of 12)\n    Line #24957 (got 21 columns instead of 12)\n    Line #25163 (got 7 columns instead of 12)\n    Line #25534 (got 7 columns instead of 12)\n    Line #25595 (got 7 columns instead of 12)\n    Line #25873 (got 7 columns instead of 12)\n    Line #25929 (got 7 columns instead of 12)\n    Line #25965 (got 5 columns instead of 12)\n    Line #26011 (got 7 columns instead of 12)\n    Line #26250 (got 10 columns instead of 12)\n    Line #26384 (got 11 columns instead of 12)\n    Line #26562 (got 7 columns instead of 12)\n    Line #26631 (got 7 columns instead of 12)\n    Line #26675 (got 13 columns instead of 12)\n    Line #26923 (got 23 columns instead of 12)\n    Line #27019 (got 7 columns instead of 12)\n    Line #27031 (got 7 columns instead of 12)\n    Line #27055 (got 7 columns instead of 12)\n    Line #27392 (got 7 columns instead of 12)\n    Line #27462 (got 7 columns instead of 12)\n    Line #27626 (got 7 columns instead of 12)\n    Line #27654 (got 7 columns instead of 12)\n    Line #27793 (got 7 columns instead of 12)\n    Line #27822 (got 7 columns instead of 12)\n    Line #27892 (got 7 columns instead of 12)\n    Line #27899 (got 7 columns instead of 12)\n    Line #28005 (got 11 columns instead of 12)\n    Line #28374 (got 7 columns instead of 12)\n    Line #28394 (got 7 columns instead of 12)\n    Line #28473 (got 7 columns instead of 12)\n    Line #28730 (got 8 columns instead of 12)\n    Line #28814 (got 7 columns instead of 12)\n    Line #28843 (got 7 columns instead of 12)\n    Line #28899 (got 7 columns instead of 12)\n    Line #29092 (got 7 columns instead of 12)\n    Line #29398 (got 11 columns instead of 12)\n    Line #29419 (got 11 columns instead of 12)\n    Line #29467 (got 7 columns instead of 12)\n    Line #30338 (got 7 columns instead of 12)\n    Line #30382 (got 7 columns instead of 12)\n    Line #30927 (got 7 columns instead of 12)\n    Line #30944 (got 7 columns instead of 12)\n    Line #31185 (got 7 columns instead of 12)\n    Line #31194 (got 7 columns instead of 12)\n    Line #31514 (got 7 columns instead of 12)\n    Line #31844 (got 7 columns instead of 12)\n    Line #31923 (got 7 columns instead of 12)\n    Line #31926 (got 7 columns instead of 12)\n    Line #32023 (got 6 columns instead of 12)\n    Line #32207 (got 11 columns instead of 12)\n    Line #32215 (got 6 columns instead of 12)\n    Line #32244 (got 7 columns instead of 12)\n    Line #32443 (got 7 columns instead of 12)\n    Line #32549 (got 7 columns instead of 12)\n    Line #32823 (got 10 columns instead of 12)\n    Line #33139 (got 7 columns instead of 12)\n    Line #33442 (got 7 columns instead of 12)\n    Line #33486 (got 7 columns instead of 12)\n    Line #33536 (got 7 columns instead of 12)\n    Line #33611 (got 7 columns instead of 12)\n    Line #33759 (got 7 columns instead of 12)\n    Line #33859 (got 7 columns instead of 12)\n    Line #34081 (got 7 columns instead of 12)\n    Line #34431 (got 6 columns instead of 12)\n    Line #34454 (got 7 columns instead of 12)\n    Line #34468 (got 7 columns instead of 12)\n    Line #34558 (got 7 columns instead of 12)\n    Line #35091 (got 11 columns instead of 12)\n    Line #35301 (got 6 columns instead of 12)\n    Line #35841 (got 7 columns instead of 12)\n    Line #35872 (got 7 columns instead of 12)\n    Line #35880 (got 7 columns instead of 12)\n    Line #35889 (got 7 columns instead of 12)\n    Line #35927 (got 7 columns instead of 12)\n    Line #36243 (got 7 columns instead of 12)\n    Line #36475 (got 7 columns instead of 12)\n    Line #36847 (got 7 columns instead of 12)\n    Line #36852 (got 7 columns instead of 12)\n    Line #36943 (got 7 columns instead of 12)\n    Line #37223 (got 7 columns instead of 12)\n    Line #37293 (got 7 columns instead of 12)\n    Line #37353 (got 11 columns instead of 12)\n    Line #37645 (got 7 columns instead of 12)\n    Line #38076 (got 5 columns instead of 12)\n    Line #38108 (got 7 columns instead of 12)\n    Line #38191 (got 7 columns instead of 12)\n    Line #38391 (got 7 columns instead of 12)\n    Line #38523 (got 7 columns instead of 12)\n    Line #39047 (got 7 columns instead of 12)\n    Line #39426 (got 7 columns instead of 12)\n    Line #39468 (got 7 columns instead of 12)\n    Line #40227 (got 6 columns instead of 12)\n    Line #40335 (got 23 columns instead of 12)",
     "output_type": "error",
     "traceback": [
      "\u001b[1;31m---------------------------------------------------------------------------\u001b[0m",
      "\u001b[1;31mValueError\u001b[0m                                Traceback (most recent call last)",
      "\u001b[1;32m~\\AppData\\Local\\Temp/ipykernel_5940/3465669732.py\u001b[0m in \u001b[0;36m<module>\u001b[1;34m\u001b[0m\n\u001b[1;32m----> 1\u001b[1;33m \u001b[0msu\u001b[0m \u001b[1;33m=\u001b[0m \u001b[0mgenfromtxt\u001b[0m\u001b[1;33m(\u001b[0m\u001b[0mbase_path\u001b[0m \u001b[1;33m/\u001b[0m \u001b[1;34m'Shifts_Uncorrected.csv'\u001b[0m\u001b[1;33m,\u001b[0m \u001b[0mdelimiter\u001b[0m\u001b[1;33m=\u001b[0m\u001b[1;34m','\u001b[0m\u001b[1;33m)\u001b[0m\u001b[1;33m\u001b[0m\u001b[1;33m\u001b[0m\u001b[0m\n\u001b[0m",
      "\u001b[1;32m~\\anaconda3\\lib\\site-packages\\numpy\\lib\\npyio.py\u001b[0m in \u001b[0;36mgenfromtxt\u001b[1;34m(fname, dtype, comments, delimiter, skip_header, skip_footer, converters, missing_values, filling_values, usecols, names, excludelist, deletechars, replace_space, autostrip, case_sensitive, defaultfmt, unpack, usemask, loose, invalid_raise, max_rows, encoding, like)\u001b[0m\n\u001b[0;32m   2120\u001b[0m             \u001b[1;31m# Raise an exception ?\u001b[0m\u001b[1;33m\u001b[0m\u001b[1;33m\u001b[0m\u001b[0m\n\u001b[0;32m   2121\u001b[0m             \u001b[1;32mif\u001b[0m \u001b[0minvalid_raise\u001b[0m\u001b[1;33m:\u001b[0m\u001b[1;33m\u001b[0m\u001b[1;33m\u001b[0m\u001b[0m\n\u001b[1;32m-> 2122\u001b[1;33m                 \u001b[1;32mraise\u001b[0m \u001b[0mValueError\u001b[0m\u001b[1;33m(\u001b[0m\u001b[0merrmsg\u001b[0m\u001b[1;33m)\u001b[0m\u001b[1;33m\u001b[0m\u001b[1;33m\u001b[0m\u001b[0m\n\u001b[0m\u001b[0;32m   2123\u001b[0m             \u001b[1;31m# Issue a warning ?\u001b[0m\u001b[1;33m\u001b[0m\u001b[1;33m\u001b[0m\u001b[0m\n\u001b[0;32m   2124\u001b[0m             \u001b[1;32melse\u001b[0m\u001b[1;33m:\u001b[0m\u001b[1;33m\u001b[0m\u001b[1;33m\u001b[0m\u001b[0m\n",
      "\u001b[1;31mValueError\u001b[0m: Some errors were detected !\n    Line #68 (got 7 columns instead of 12)\n    Line #369 (got 7 columns instead of 12)\n    Line #467 (got 7 columns instead of 12)\n    Line #481 (got 6 columns instead of 12)\n    Line #1129 (got 7 columns instead of 12)\n    Line #1204 (got 7 columns instead of 12)\n    Line #1235 (got 7 columns instead of 12)\n    Line #1267 (got 7 columns instead of 12)\n    Line #2493 (got 7 columns instead of 12)\n    Line #2515 (got 7 columns instead of 12)\n    Line #2624 (got 7 columns instead of 12)\n    Line #2925 (got 7 columns instead of 12)\n    Line #2942 (got 23 columns instead of 12)\n    Line #2956 (got 7 columns instead of 12)\n    Line #3389 (got 7 columns instead of 12)\n    Line #3534 (got 23 columns instead of 12)\n    Line #3918 (got 7 columns instead of 12)\n    Line #3954 (got 7 columns instead of 12)\n    Line #5041 (got 7 columns instead of 12)\n    Line #5286 (got 15 columns instead of 12)\n    Line #5606 (got 8 columns instead of 12)\n    Line #5764 (got 7 columns instead of 12)\n    Line #6563 (got 7 columns instead of 12)\n    Line #7202 (got 7 columns instead of 12)\n    Line #7284 (got 7 columns instead of 12)\n    Line #7632 (got 23 columns instead of 12)\n    Line #7636 (got 7 columns instead of 12)\n    Line #7767 (got 11 columns instead of 12)\n    Line #7825 (got 7 columns instead of 12)\n    Line #7862 (got 7 columns instead of 12)\n    Line #8099 (got 7 columns instead of 12)\n    Line #8110 (got 7 columns instead of 12)\n    Line #8280 (got 7 columns instead of 12)\n    Line #8639 (got 7 columns instead of 12)\n    Line #8830 (got 6 columns instead of 12)\n    Line #8928 (got 7 columns instead of 12)\n    Line #8935 (got 7 columns instead of 12)\n    Line #9136 (got 7 columns instead of 12)\n    Line #9141 (got 7 columns instead of 12)\n    Line #9504 (got 7 columns instead of 12)\n    Line #9536 (got 7 columns instead of 12)\n    Line #9631 (got 7 columns instead of 12)\n    Line #9690 (got 8 columns instead of 12)\n    Line #9945 (got 23 columns instead of 12)\n    Line #10043 (got 11 columns instead of 12)\n    Line #10193 (got 7 columns instead of 12)\n    Line #10406 (got 7 columns instead of 12)\n    Line #10651 (got 7 columns instead of 12)\n    Line #10689 (got 7 columns instead of 12)\n    Line #10990 (got 7 columns instead of 12)\n    Line #11191 (got 7 columns instead of 12)\n    Line #11771 (got 7 columns instead of 12)\n    Line #12150 (got 23 columns instead of 12)\n    Line #12215 (got 7 columns instead of 12)\n    Line #12570 (got 7 columns instead of 12)\n    Line #12668 (got 7 columns instead of 12)\n    Line #12982 (got 5 columns instead of 12)\n    Line #13209 (got 6 columns instead of 12)\n    Line #13227 (got 7 columns instead of 12)\n    Line #13324 (got 5 columns instead of 12)\n    Line #13379 (got 7 columns instead of 12)\n    Line #13388 (got 11 columns instead of 12)\n    Line #13430 (got 7 columns instead of 12)\n    Line #13646 (got 7 columns instead of 12)\n    Line #13870 (got 14 columns instead of 12)\n    Line #13871 (got 13 columns instead of 12)\n    Line #13913 (got 7 columns instead of 12)\n    Line #14033 (got 11 columns instead of 12)\n    Line #14136 (got 7 columns instead of 12)\n    Line #14358 (got 6 columns instead of 12)\n    Line #14397 (got 7 columns instead of 12)\n    Line #14419 (got 7 columns instead of 12)\n    Line #14467 (got 7 columns instead of 12)\n    Line #14528 (got 7 columns instead of 12)\n    Line #14788 (got 7 columns instead of 12)\n    Line #15070 (got 7 columns instead of 12)\n    Line #15205 (got 7 columns instead of 12)\n    Line #15318 (got 7 columns instead of 12)\n    Line #15450 (got 7 columns instead of 12)\n    Line #15485 (got 7 columns instead of 12)\n    Line #15501 (got 11 columns instead of 12)\n    Line #15587 (got 7 columns instead of 12)\n    Line #15765 (got 7 columns instead of 12)\n    Line #15866 (got 7 columns instead of 12)\n    Line #15873 (got 7 columns instead of 12)\n    Line #16088 (got 7 columns instead of 12)\n    Line #16521 (got 7 columns instead of 12)\n    Line #16956 (got 7 columns instead of 12)\n    Line #16997 (got 11 columns instead of 12)\n    Line #17077 (got 23 columns instead of 12)\n    Line #17144 (got 7 columns instead of 12)\n    Line #17379 (got 7 columns instead of 12)\n    Line #18023 (got 7 columns instead of 12)\n    Line #18143 (got 7 columns instead of 12)\n    Line #18506 (got 7 columns instead of 12)\n    Line #18725 (got 7 columns instead of 12)\n    Line #18773 (got 7 columns instead of 12)\n    Line #18878 (got 7 columns instead of 12)\n    Line #18981 (got 7 columns instead of 12)\n    Line #19405 (got 7 columns instead of 12)\n    Line #19527 (got 7 columns instead of 12)\n    Line #19684 (got 7 columns instead of 12)\n    Line #19750 (got 6 columns instead of 12)\n    Line #19920 (got 7 columns instead of 12)\n    Line #20564 (got 7 columns instead of 12)\n    Line #20682 (got 7 columns instead of 12)\n    Line #20767 (got 7 columns instead of 12)\n    Line #20855 (got 7 columns instead of 12)\n    Line #21167 (got 7 columns instead of 12)\n    Line #21527 (got 7 columns instead of 12)\n    Line #21667 (got 7 columns instead of 12)\n    Line #21714 (got 7 columns instead of 12)\n    Line #21769 (got 7 columns instead of 12)\n    Line #22312 (got 11 columns instead of 12)\n    Line #22435 (got 7 columns instead of 12)\n    Line #22762 (got 7 columns instead of 12)\n    Line #22823 (got 7 columns instead of 12)\n    Line #22845 (got 7 columns instead of 12)\n    Line #23138 (got 13 columns instead of 12)\n    Line #23473 (got 7 columns instead of 12)\n    Line #23902 (got 6 columns instead of 12)\n    Line #24150 (got 7 columns instead of 12)\n    Line #24156 (got 7 columns instead of 12)\n    Line #24229 (got 9 columns instead of 12)\n    Line #24247 (got 7 columns instead of 12)\n    Line #24325 (got 7 columns instead of 12)\n    Line #24365 (got 11 columns instead of 12)\n    Line #24430 (got 7 columns instead of 12)\n    Line #24518 (got 7 columns instead of 12)\n    Line #24782 (got 7 columns instead of 12)\n    Line #24863 (got 7 columns instead of 12)\n    Line #24957 (got 21 columns instead of 12)\n    Line #25163 (got 7 columns instead of 12)\n    Line #25534 (got 7 columns instead of 12)\n    Line #25595 (got 7 columns instead of 12)\n    Line #25873 (got 7 columns instead of 12)\n    Line #25929 (got 7 columns instead of 12)\n    Line #25965 (got 5 columns instead of 12)\n    Line #26011 (got 7 columns instead of 12)\n    Line #26250 (got 10 columns instead of 12)\n    Line #26384 (got 11 columns instead of 12)\n    Line #26562 (got 7 columns instead of 12)\n    Line #26631 (got 7 columns instead of 12)\n    Line #26675 (got 13 columns instead of 12)\n    Line #26923 (got 23 columns instead of 12)\n    Line #27019 (got 7 columns instead of 12)\n    Line #27031 (got 7 columns instead of 12)\n    Line #27055 (got 7 columns instead of 12)\n    Line #27392 (got 7 columns instead of 12)\n    Line #27462 (got 7 columns instead of 12)\n    Line #27626 (got 7 columns instead of 12)\n    Line #27654 (got 7 columns instead of 12)\n    Line #27793 (got 7 columns instead of 12)\n    Line #27822 (got 7 columns instead of 12)\n    Line #27892 (got 7 columns instead of 12)\n    Line #27899 (got 7 columns instead of 12)\n    Line #28005 (got 11 columns instead of 12)\n    Line #28374 (got 7 columns instead of 12)\n    Line #28394 (got 7 columns instead of 12)\n    Line #28473 (got 7 columns instead of 12)\n    Line #28730 (got 8 columns instead of 12)\n    Line #28814 (got 7 columns instead of 12)\n    Line #28843 (got 7 columns instead of 12)\n    Line #28899 (got 7 columns instead of 12)\n    Line #29092 (got 7 columns instead of 12)\n    Line #29398 (got 11 columns instead of 12)\n    Line #29419 (got 11 columns instead of 12)\n    Line #29467 (got 7 columns instead of 12)\n    Line #30338 (got 7 columns instead of 12)\n    Line #30382 (got 7 columns instead of 12)\n    Line #30927 (got 7 columns instead of 12)\n    Line #30944 (got 7 columns instead of 12)\n    Line #31185 (got 7 columns instead of 12)\n    Line #31194 (got 7 columns instead of 12)\n    Line #31514 (got 7 columns instead of 12)\n    Line #31844 (got 7 columns instead of 12)\n    Line #31923 (got 7 columns instead of 12)\n    Line #31926 (got 7 columns instead of 12)\n    Line #32023 (got 6 columns instead of 12)\n    Line #32207 (got 11 columns instead of 12)\n    Line #32215 (got 6 columns instead of 12)\n    Line #32244 (got 7 columns instead of 12)\n    Line #32443 (got 7 columns instead of 12)\n    Line #32549 (got 7 columns instead of 12)\n    Line #32823 (got 10 columns instead of 12)\n    Line #33139 (got 7 columns instead of 12)\n    Line #33442 (got 7 columns instead of 12)\n    Line #33486 (got 7 columns instead of 12)\n    Line #33536 (got 7 columns instead of 12)\n    Line #33611 (got 7 columns instead of 12)\n    Line #33759 (got 7 columns instead of 12)\n    Line #33859 (got 7 columns instead of 12)\n    Line #34081 (got 7 columns instead of 12)\n    Line #34431 (got 6 columns instead of 12)\n    Line #34454 (got 7 columns instead of 12)\n    Line #34468 (got 7 columns instead of 12)\n    Line #34558 (got 7 columns instead of 12)\n    Line #35091 (got 11 columns instead of 12)\n    Line #35301 (got 6 columns instead of 12)\n    Line #35841 (got 7 columns instead of 12)\n    Line #35872 (got 7 columns instead of 12)\n    Line #35880 (got 7 columns instead of 12)\n    Line #35889 (got 7 columns instead of 12)\n    Line #35927 (got 7 columns instead of 12)\n    Line #36243 (got 7 columns instead of 12)\n    Line #36475 (got 7 columns instead of 12)\n    Line #36847 (got 7 columns instead of 12)\n    Line #36852 (got 7 columns instead of 12)\n    Line #36943 (got 7 columns instead of 12)\n    Line #37223 (got 7 columns instead of 12)\n    Line #37293 (got 7 columns instead of 12)\n    Line #37353 (got 11 columns instead of 12)\n    Line #37645 (got 7 columns instead of 12)\n    Line #38076 (got 5 columns instead of 12)\n    Line #38108 (got 7 columns instead of 12)\n    Line #38191 (got 7 columns instead of 12)\n    Line #38391 (got 7 columns instead of 12)\n    Line #38523 (got 7 columns instead of 12)\n    Line #39047 (got 7 columns instead of 12)\n    Line #39426 (got 7 columns instead of 12)\n    Line #39468 (got 7 columns instead of 12)\n    Line #40227 (got 6 columns instead of 12)\n    Line #40335 (got 23 columns instead of 12)"
     ]
    }
   ],
   "source": [
    "su = genfromtxt(base_path / 'Shifts_Uncorrected.csv', delimiter=',')"
   ]
  },
  {
   "cell_type": "code",
   "execution_count": null,
   "id": "5cb380b3",
   "metadata": {},
   "outputs": [],
   "source": [
    "su.shape"
   ]
  },
  {
   "cell_type": "code",
   "execution_count": 6,
   "id": "375e1e39",
   "metadata": {},
   "outputs": [
    {
     "data": {
      "text/plain": [
       "array([-4.9846000e-02, -1.3654000e-02, -3.9240000e-03, -5.1070000e-03,\n",
       "        1.4621000e-01, -2.9740900e-01,  2.5774770e+00,  2.8476720e+00,\n",
       "        3.0080110e+00,  2.8870760e+00,  2.5149630e+00,  1.1390550e+00,\n",
       "        3.9227500e-01,  1.7867000e-02, -3.9794900e-01, -1.0551040e+00,\n",
       "       -1.1988720e+00, -1.1421790e+00, -1.1579660e+00, -8.1655500e-01,\n",
       "       -5.1924700e-01, -3.0497900e-01, -8.0537000e-02, -9.6953000e-02,\n",
       "       -7.4968000e-02, -1.0043700e-01, -1.1853800e-01, -1.6946600e-01,\n",
       "       -1.8720000e-01, -2.2944100e-01, -2.1388600e-01, -1.6262600e-01,\n",
       "       -1.9774800e-01, -5.7880000e-02, -1.4731300e-01, -1.0726200e-01,\n",
       "       -8.3546000e-02, -1.1840600e-01, -1.6157100e-01, -1.7161200e-01,\n",
       "       -2.0121700e-01, -2.6315800e-01, -2.2427500e-01, -3.3545300e-01,\n",
       "       -3.2440500e-01, -1.9696400e-01, -1.0907700e-01, -1.0020200e-01,\n",
       "       -8.6600000e-03, -1.2599000e-02, -1.0442000e-02, -1.2256900e-01,\n",
       "       -1.4698200e-01, -2.0312200e-01, -2.0802800e-01, -3.4950400e-01,\n",
       "       -4.7191100e-01, -5.7137300e-01, -8.9471500e-01, -1.0237800e+00,\n",
       "       -1.1381300e+00, -1.1849110e+00, -1.1044550e+00, -1.2229910e+00,\n",
       "       -1.4671760e+00, -1.3925040e+00, -1.0360930e+00, -5.9463700e-01,\n",
       "       -3.9208900e-01, -4.1441600e-01, -9.3088000e-02, -3.1476000e-02,\n",
       "        8.6830000e-03,  6.1782000e-02,  1.3602000e-02, -1.4369000e-02,\n",
       "       -9.9259000e-02, -1.4902000e-01, -1.3922400e-01, -1.4464900e-01,\n",
       "       -1.8769700e-01, -1.4815300e-01, -1.3605700e-01, -1.3876600e-01,\n",
       "       -1.0962300e-01,  3.6140000e-02,  1.2641000e-02,  6.0348000e-02,\n",
       "        6.8962000e-02,  1.6842300e-01,  2.4620200e-01,  3.5758800e-01,\n",
       "        4.1889800e-01,  4.3524600e-01,  4.1693920e+00,  9.0140430e+00,\n",
       "        8.9352400e+00,  4.2348750e+00,  4.1397640e+00,  4.0557840e+00,\n",
       "        4.5350950e+00,  4.6360350e+00,  4.4681790e+00,  4.7451970e+00,\n",
       "        4.3674830e+00,  4.2316840e+00,  4.2429970e+00,  4.2374510e+00,\n",
       "        4.5043140e+00,  4.7357240e+00,  4.3867720e+00,  4.4996370e+00,\n",
       "        4.2964640e+00,  4.2079320e+00,  4.2284850e+00,  4.2468610e+00,\n",
       "        4.1693920e+00,  3.2783290e+00, -5.0133016e+01,  4.1385280e+00,\n",
       "       -3.7512383e+01, -8.9086720e+00])"
      ]
     },
     "execution_count": 6,
     "metadata": {},
     "output_type": "execute_result"
    }
   ],
   "source": [
    "su[:, 2]"
   ]
  },
  {
   "cell_type": "code",
   "execution_count": 8,
   "id": "f2f5500e",
   "metadata": {},
   "outputs": [
    {
     "data": {
      "text/plain": [
       "[<matplotlib.lines.Line2D at 0xb9f7310>]"
      ]
     },
     "execution_count": 8,
     "metadata": {},
     "output_type": "execute_result"
    }
   ],
   "source": [
    "plt.plot(su[:, 0], su[:, 3])"
   ]
  },
  {
   "cell_type": "code",
   "execution_count": 97,
   "id": "d554994f",
   "metadata": {},
   "outputs": [
    {
     "data": {
      "text/plain": [
       "array([[-1., -0.],\n",
       "       [-0., -1.]])"
      ]
     },
     "execution_count": 97,
     "metadata": {},
     "output_type": "execute_result"
    }
   ],
   "source": [
    "np.linalg.inv(np.array([[-1, 0], [0, -1]]))"
   ]
  },
  {
   "cell_type": "code",
   "execution_count": 17,
   "id": "ff47e425",
   "metadata": {},
   "outputs": [],
   "source": [
    "sv = genfromtxt(base_path / 'Shifts.csv', delimiter=',')"
   ]
  },
  {
   "cell_type": "code",
   "execution_count": 18,
   "id": "de1995fb",
   "metadata": {},
   "outputs": [
    {
     "data": {
      "text/plain": [
       "(8379, 7)"
      ]
     },
     "execution_count": 18,
     "metadata": {},
     "output_type": "execute_result"
    }
   ],
   "source": [
    "sv.shape"
   ]
  },
  {
   "cell_type": "code",
   "execution_count": 20,
   "id": "ed2bf684",
   "metadata": {},
   "outputs": [
    {
     "data": {
      "text/plain": [
       "[<matplotlib.lines.Line2D at 0xcfcbfb8>]"
      ]
     },
     "execution_count": 20,
     "metadata": {},
     "output_type": "execute_result"
    },
    {
     "name": "stderr",
     "output_type": "stream",
     "text": [
      "C:\\Users\\IIAP-IPC\\anaconda3\\lib\\site-packages\\ipykernel\\eventloops.py:105: MatplotlibDeprecationWarning: Toggling axes navigation from the keyboard is deprecated since 3.3 and will be removed two minor releases later.\n",
      "  app.exec_()\n"
     ]
    }
   ],
   "source": [
    "plt.plot(sv[:, 4])"
   ]
  },
  {
   "cell_type": "code",
   "execution_count": null,
   "id": "15e7dc05",
   "metadata": {},
   "outputs": [],
   "source": []
  }
 ],
 "metadata": {
  "kernelspec": {
   "display_name": "Python 3 (ipykernel)",
   "language": "python",
   "name": "python3"
  },
  "language_info": {
   "codemirror_mode": {
    "name": "ipython",
    "version": 3
   },
   "file_extension": ".py",
   "mimetype": "text/x-python",
   "name": "python",
   "nbconvert_exporter": "python",
   "pygments_lexer": "ipython3",
   "version": "3.9.7"
  }
 },
 "nbformat": 4,
 "nbformat_minor": 5
}
