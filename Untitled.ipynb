{
 "cells": [
  {
   "cell_type": "code",
   "execution_count": 1,
   "id": "66c6b21d",
   "metadata": {},
   "outputs": [],
   "source": [
    "%matplotlib qt5\n",
    "import numpy as np\n",
    "import matplotlib.pyplot as plt\n",
    "from pathlib import Path\n",
    "import scipy.signal\n",
    "from numpy import genfromtxt"
   ]
  },
  {
   "cell_type": "code",
   "execution_count": 2,
   "id": "07b45cad",
   "metadata": {},
   "outputs": [],
   "source": [
    "A0  = 0.54348\n",
    "Hamm1d = A0 + (A0-1)*np.cos(2*np.pi*np.arange(256)/(256-1))"
   ]
  },
  {
   "cell_type": "code",
   "execution_count": 3,
   "id": "b0281c55",
   "metadata": {},
   "outputs": [
    {
     "data": {
      "text/plain": [
       "[<matplotlib.lines.Line2D at 0xcbb8bf8>]"
      ]
     },
     "execution_count": 3,
     "metadata": {},
     "output_type": "execute_result"
    }
   ],
   "source": [
    "plt.plot(Hamm1d)"
   ]
  },
  {
   "cell_type": "code",
   "execution_count": 4,
   "id": "353e2d79",
   "metadata": {},
   "outputs": [],
   "source": [
    "for i in range(32, 256-32):\n",
    "    Hamm1d[i] = Hamm1d[31]"
   ]
  },
  {
   "cell_type": "code",
   "execution_count": 5,
   "id": "8cf52b0f",
   "metadata": {},
   "outputs": [
    {
     "data": {
      "text/plain": [
       "[<matplotlib.lines.Line2D at 0x565bc8>]"
      ]
     },
     "execution_count": 5,
     "metadata": {},
     "output_type": "execute_result"
    }
   ],
   "source": [
    "plt.plot(Hamm1d)"
   ]
  },
  {
   "cell_type": "code",
   "execution_count": 6,
   "id": "2ec9b85b",
   "metadata": {},
   "outputs": [],
   "source": [
    "Hamm1d /= Hamm1d.max()"
   ]
  },
  {
   "cell_type": "code",
   "execution_count": 7,
   "id": "c2426b95",
   "metadata": {},
   "outputs": [
    {
     "data": {
      "text/plain": [
       "[<matplotlib.lines.Line2D at 0x5a0b08>]"
      ]
     },
     "execution_count": 7,
     "metadata": {},
     "output_type": "execute_result"
    }
   ],
   "source": [
    "plt.plot(Hamm1d)"
   ]
  },
  {
   "cell_type": "code",
   "execution_count": 8,
   "id": "44c8b486",
   "metadata": {},
   "outputs": [],
   "source": [
    "HammingWindow = np.zeros(256*256, dtype=np.float64)"
   ]
  },
  {
   "cell_type": "code",
   "execution_count": 9,
   "id": "344f3335",
   "metadata": {},
   "outputs": [],
   "source": [
    "for i in range(256*256):\n",
    "    xin = i%256\n",
    "    yin = i//256\n",
    "    HammingWindow[i] = Hamm1d[xin]*Hamm1d[yin]"
   ]
  },
  {
   "cell_type": "code",
   "execution_count": 10,
   "id": "0780c9d6",
   "metadata": {},
   "outputs": [
    {
     "data": {
      "text/plain": [
       "<matplotlib.image.AxesImage at 0x5dca18>"
      ]
     },
     "execution_count": 10,
     "metadata": {},
     "output_type": "execute_result"
    }
   ],
   "source": [
    "plt.imshow(HammingWindow.reshape(256, 256), cmap='gray', origin='lower')"
   ]
  },
  {
   "cell_type": "code",
   "execution_count": 11,
   "id": "be064369",
   "metadata": {},
   "outputs": [],
   "source": [
    "HammingWindow = HammingWindow.reshape(256, 256)"
   ]
  },
  {
   "cell_type": "code",
   "execution_count": 51,
   "id": "4e037221",
   "metadata": {},
   "outputs": [],
   "source": [
    "base_path = Path('F:\\\\tiptilt\\\\20230515_102513')"
   ]
  },
  {
   "cell_type": "code",
   "execution_count": 60,
   "id": "bd95894e",
   "metadata": {},
   "outputs": [],
   "source": [
    "ref_image = base_path / 'Y_frame_000001_Ref.dat'"
   ]
  },
  {
   "cell_type": "code",
   "execution_count": 61,
   "id": "0746cb8c",
   "metadata": {},
   "outputs": [],
   "source": [
    "ref_data = np.fromfile(ref_image, dtype='H')"
   ]
  },
  {
   "cell_type": "code",
   "execution_count": 62,
   "id": "f572400e",
   "metadata": {},
   "outputs": [],
   "source": [
    "ref_d = ref_data.astype(np.float64).reshape(256, 256)"
   ]
  },
  {
   "cell_type": "code",
   "execution_count": 63,
   "id": "9476ccf4",
   "metadata": {},
   "outputs": [
    {
     "data": {
      "text/plain": [
       "<matplotlib.image.AxesImage at 0x119182e0>"
      ]
     },
     "execution_count": 63,
     "metadata": {},
     "output_type": "execute_result"
    }
   ],
   "source": [
    "plt.imshow(ref_d, cmap='gray', origin='lower')"
   ]
  },
  {
   "cell_type": "code",
   "execution_count": 58,
   "id": "54aadfac",
   "metadata": {},
   "outputs": [],
   "source": [
    "ref_d /= ref_d.mean()"
   ]
  },
  {
   "cell_type": "code",
   "execution_count": 59,
   "id": "87eec56c",
   "metadata": {},
   "outputs": [],
   "source": [
    "C00 = 2.41299051e-04 \n",
    "C01 =  -1.41662848e-06\n",
    "C02 =  -1.41662848e-06\n",
    "C03 = 8.31680126e-09\n",
    "C10 =  -1.41662848e-06 \n",
    "C11 = 1.11108116e-08 \n",
    "C12 = 8.31680126e-09 \n",
    "C13 = -6.52298138e-11\n",
    "C20 =  -1.41662848e-06 \n",
    "C21 = 8.31680126e-09\n",
    "C22 = 1.11108116e-08 \n",
    "C23 =  -6.52298138e-11 \n",
    "C30 = 8.31680126e-09 \n",
    "C31 =  -6.52298138e-11 \n",
    "C32 =  -6.52298138e-11 \n",
    "C33 = 5.11606383e-13 \n",
    "# C00 =  6.06787473e-05 \n",
    "# C01 =  -1.77943541e-07\n",
    "# C02 =  -1.77943541e-07\n",
    "# C03 =  5.21828565e-10\n",
    "# C10 =  -1.77943541e-07\n",
    "# C11 =  6.96452214e-10\n",
    "# C12 =  5.21828565e-10\n",
    "# C13 = -2.04238186e-12 \n",
    "# C20 =  -1.77943541e-07\n",
    "# C21 =  5.21828565e-10\n",
    "# C22 =  6.96452214e-10\n",
    "# C23 =  -2.04238186e-12\n",
    "# C30 =  5.21828565e-10\n",
    "# C31 =  -2.04238186e-12\n",
    "# C32 =  -2.04238186e-12\n",
    "# C33 =  7.99366676e-15\n",
    "# C00 = 9.53984e-4\n",
    "# C01 = -1.12233e-5\n",
    "# C02 = -1.12233e-5\n",
    "# C03 = 1.32039e-7\n",
    "# C10 = -1.12233e-5\n",
    "# C11 = 1.76745e-7\n",
    "# C12 = 1.32039e-7\n",
    "# C13 = -2.07936e-9\n",
    "# C20 = -1.12233e-05\n",
    "# C21 = 1.32039e-7\n",
    "# C22 = 1.76745e-7\n",
    "# C23 = -2.07936e-9\n",
    "# C30 = 1.32039e-7\n",
    "# C31 = -2.07936e-9\n",
    "# C32 = -2.07936e-9\n",
    "# C33 = 3.27458e-11"
   ]
  },
  {
   "cell_type": "code",
   "execution_count": 60,
   "id": "3a816a92",
   "metadata": {},
   "outputs": [],
   "source": [
    "def getGradientSurfaceFit(image):\n",
    "    COEFF = np.zeros(4)\n",
    "    Sz=0; Szx=0; Szy=0; Szxy=0;\n",
    "    i=0; XIND=0; YIND=0;\n",
    "    for i in range(256):\n",
    "        for j in range(256):\n",
    "            Sz += image[i][j]\n",
    "            Szx += j*image[i][j]\n",
    "            Szy += j*image[i][j]\n",
    "            Szxy += i*j*image[i][j]\n",
    "    COEFF[0] = C00*Sz + C01*Szx + C02*Szy + C03*Szxy\n",
    "    COEFF[1] = C10*Sz + C11*Szx + C12*Szy + C13*Szxy\n",
    "    COEFF[2] = C20*Sz + C21*Szx + C22*Szy + C23*Szxy\n",
    "    COEFF[3] = C30*Sz + C31*Szx + C32*Szy + C33*Szxy\n",
    "    return COEFF"
   ]
  },
  {
   "cell_type": "code",
   "execution_count": 61,
   "id": "c2133b33",
   "metadata": {},
   "outputs": [],
   "source": [
    "def prepare_generate_image(COEFF):\n",
    "    def generate_image(i, j):\n",
    "        return COEFF[0] + COEFF[1] * i + COEFF[2] * j + COEFF[3] * i * j\n",
    "    return generate_image\n",
    "    "
   ]
  },
  {
   "cell_type": "code",
   "execution_count": 62,
   "id": "477aef6c",
   "metadata": {},
   "outputs": [],
   "source": [
    "COEFF = getGradientSurfaceFit(ref_d)"
   ]
  },
  {
   "cell_type": "code",
   "execution_count": 63,
   "id": "f205f225",
   "metadata": {},
   "outputs": [
    {
     "data": {
      "text/plain": [
       "array([ 1.00076056e+00, -1.87861267e-03, -1.87861267e-03,  2.94216476e-05])"
      ]
     },
     "execution_count": 63,
     "metadata": {},
     "output_type": "execute_result"
    }
   ],
   "source": [
    "COEFF"
   ]
  },
  {
   "cell_type": "code",
   "execution_count": 64,
   "id": "b93d6d85",
   "metadata": {},
   "outputs": [],
   "source": [
    "generate_image = prepare_generate_image(COEFF)"
   ]
  },
  {
   "cell_type": "code",
   "execution_count": 65,
   "id": "bb9312eb",
   "metadata": {},
   "outputs": [],
   "source": [
    "vec_generate_image = np.vectorize(generate_image, signature='(),()->()')"
   ]
  },
  {
   "cell_type": "code",
   "execution_count": 66,
   "id": "d95da247",
   "metadata": {},
   "outputs": [],
   "source": [
    "X, Y = np.meshgrid(range(256), range(256))"
   ]
  },
  {
   "cell_type": "code",
   "execution_count": 67,
   "id": "cf49fd29",
   "metadata": {},
   "outputs": [],
   "source": [
    "fitted_image = vec_generate_image(X, Y)"
   ]
  },
  {
   "cell_type": "code",
   "execution_count": 68,
   "id": "151db749",
   "metadata": {},
   "outputs": [
    {
     "data": {
      "text/plain": [
       "(256, 256)"
      ]
     },
     "execution_count": 68,
     "metadata": {},
     "output_type": "execute_result"
    }
   ],
   "source": [
    "fitted_image.shape"
   ]
  },
  {
   "cell_type": "code",
   "execution_count": 69,
   "id": "acb3ebbb",
   "metadata": {},
   "outputs": [
    {
     "data": {
      "text/plain": [
       "<matplotlib.image.AxesImage at 0xebbb4c0>"
      ]
     },
     "execution_count": 69,
     "metadata": {},
     "output_type": "execute_result"
    }
   ],
   "source": [
    "plt.imshow(fitted_image, cmap='gray', origin='lower')"
   ]
  },
  {
   "cell_type": "code",
   "execution_count": 70,
   "id": "adcf1874",
   "metadata": {},
   "outputs": [],
   "source": [
    "new_ref = ref_d - fitted_image"
   ]
  },
  {
   "cell_type": "code",
   "execution_count": 71,
   "id": "a713a467",
   "metadata": {},
   "outputs": [
    {
     "data": {
      "text/plain": [
       "<matplotlib.image.AxesImage at 0xebe7ef8>"
      ]
     },
     "execution_count": 71,
     "metadata": {},
     "output_type": "execute_result"
    }
   ],
   "source": [
    "plt.imshow(new_ref, cmap='gray', origin='lower')"
   ]
  },
  {
   "cell_type": "code",
   "execution_count": 72,
   "id": "dc10e41c",
   "metadata": {},
   "outputs": [],
   "source": [
    "new_ref *= HammingWindow"
   ]
  },
  {
   "cell_type": "code",
   "execution_count": 73,
   "id": "38e4066e",
   "metadata": {},
   "outputs": [
    {
     "data": {
      "text/plain": [
       "<matplotlib.image.AxesImage at 0xedf09b8>"
      ]
     },
     "execution_count": 73,
     "metadata": {},
     "output_type": "execute_result"
    }
   ],
   "source": [
    "plt.imshow(new_ref, cmap='gray', origin='lower')"
   ]
  },
  {
   "cell_type": "code",
   "execution_count": 94,
   "id": "c35cdff7",
   "metadata": {},
   "outputs": [],
   "source": [
    "fft_ref = np.fft.fft2(new_ref)"
   ]
  },
  {
   "cell_type": "code",
   "execution_count": 95,
   "id": "c73c4ed3",
   "metadata": {},
   "outputs": [
    {
     "data": {
      "text/plain": [
       "<matplotlib.image.AxesImage at 0x1238b598>"
      ]
     },
     "execution_count": 95,
     "metadata": {},
     "output_type": "execute_result"
    }
   ],
   "source": [
    "plt.imshow(np.log(np.abs(np.fft.fftshift(fft_ref))), cmap='gray', origin='lower')"
   ]
  },
  {
   "cell_type": "code",
   "execution_count": 56,
   "id": "23beed3b",
   "metadata": {},
   "outputs": [],
   "source": [
    "next_image = base_path / 'Y_frame_000018_000001_Cur.dat'"
   ]
  },
  {
   "cell_type": "code",
   "execution_count": 57,
   "id": "f6952c45",
   "metadata": {},
   "outputs": [],
   "source": [
    "next_image_data = np.fromfile(next_image, dtype='H').reshape(256, 256).astype(np.float64)"
   ]
  },
  {
   "cell_type": "code",
   "execution_count": 58,
   "id": "ad5066de",
   "metadata": {},
   "outputs": [],
   "source": [
    "next_d = next_image_data"
   ]
  },
  {
   "cell_type": "code",
   "execution_count": 59,
   "id": "02bde515",
   "metadata": {},
   "outputs": [
    {
     "data": {
      "text/plain": [
       "<matplotlib.image.AxesImage at 0x115c2760>"
      ]
     },
     "execution_count": 59,
     "metadata": {},
     "output_type": "execute_result"
    }
   ],
   "source": [
    "plt.imshow(next_d, cmap='gray', origin='lower')"
   ]
  },
  {
   "cell_type": "code",
   "execution_count": 100,
   "id": "88182cf3",
   "metadata": {},
   "outputs": [],
   "source": [
    "next_d /= next_d.mean()"
   ]
  },
  {
   "cell_type": "code",
   "execution_count": 101,
   "id": "51468211",
   "metadata": {},
   "outputs": [],
   "source": [
    "COEFF = getGradientSurfaceFit(next_d)"
   ]
  },
  {
   "cell_type": "code",
   "execution_count": 102,
   "id": "dd3ccc2d",
   "metadata": {},
   "outputs": [
    {
     "data": {
      "text/plain": [
       "array([ 1.42451287e+00, -6.20564628e-03, -6.20564628e-03,  9.01746092e-05])"
      ]
     },
     "execution_count": 102,
     "metadata": {},
     "output_type": "execute_result"
    }
   ],
   "source": [
    "COEFF"
   ]
  },
  {
   "cell_type": "code",
   "execution_count": 103,
   "id": "a04cc159",
   "metadata": {},
   "outputs": [],
   "source": [
    "generate_image = prepare_generate_image(COEFF)"
   ]
  },
  {
   "cell_type": "code",
   "execution_count": 104,
   "id": "9b56a196",
   "metadata": {},
   "outputs": [],
   "source": [
    "vec_generate_image = np.vectorize(generate_image, signature='(),()->()')"
   ]
  },
  {
   "cell_type": "code",
   "execution_count": 105,
   "id": "a36f7779",
   "metadata": {},
   "outputs": [],
   "source": [
    "fitted_image = vec_generate_image(X, Y)"
   ]
  },
  {
   "cell_type": "code",
   "execution_count": 106,
   "id": "95ffbcbc",
   "metadata": {},
   "outputs": [
    {
     "data": {
      "text/plain": [
       "(128, 128)"
      ]
     },
     "execution_count": 106,
     "metadata": {},
     "output_type": "execute_result"
    }
   ],
   "source": [
    "fitted_image.shape"
   ]
  },
  {
   "cell_type": "code",
   "execution_count": 107,
   "id": "6b9d36a6",
   "metadata": {},
   "outputs": [
    {
     "data": {
      "text/plain": [
       "<matplotlib.image.AxesImage at 0x12a60868>"
      ]
     },
     "execution_count": 107,
     "metadata": {},
     "output_type": "execute_result"
    }
   ],
   "source": [
    "plt.imshow(fitted_image, cmap='gray', origin='lower')"
   ]
  },
  {
   "cell_type": "code",
   "execution_count": 108,
   "id": "44474dc3",
   "metadata": {},
   "outputs": [],
   "source": [
    "new_next = next_d - fitted_image"
   ]
  },
  {
   "cell_type": "code",
   "execution_count": 109,
   "id": "39fbcc1d",
   "metadata": {},
   "outputs": [],
   "source": [
    "new_next *= HammingWindow"
   ]
  },
  {
   "cell_type": "code",
   "execution_count": 110,
   "id": "1ce74c1f",
   "metadata": {},
   "outputs": [
    {
     "data": {
      "text/plain": [
       "<matplotlib.image.AxesImage at 0x12d26970>"
      ]
     },
     "execution_count": 110,
     "metadata": {},
     "output_type": "execute_result"
    }
   ],
   "source": [
    "plt.imshow(new_next, cmap='gray', origin='lower')"
   ]
  },
  {
   "cell_type": "code",
   "execution_count": 111,
   "id": "fd29fd18",
   "metadata": {},
   "outputs": [],
   "source": [
    "fft_next = np.fft.fft2(new_next)"
   ]
  },
  {
   "cell_type": "code",
   "execution_count": 112,
   "id": "942207d0",
   "metadata": {},
   "outputs": [
    {
     "data": {
      "text/plain": [
       "((128, 128), dtype('complex128'))"
      ]
     },
     "execution_count": 112,
     "metadata": {},
     "output_type": "execute_result"
    }
   ],
   "source": [
    "fft_next.shape, fft_next.dtype"
   ]
  },
  {
   "cell_type": "code",
   "execution_count": 113,
   "id": "3124222f",
   "metadata": {},
   "outputs": [
    {
     "data": {
      "text/plain": [
       "(array([[ -466.75535522,   665.01278815,    43.76403566, ...,\n",
       "            61.66555629,    43.76403566,   665.01278815],\n",
       "        [ 1355.12870556,    -5.99360395,   122.01663284, ...,\n",
       "          -172.63450542,  -212.35455194, -1669.78389354],\n",
       "        [ -195.45093365,   254.8704438 ,   107.97144286, ...,\n",
       "            -6.24802667,    18.7462775 ,  -236.24454514],\n",
       "        ...,\n",
       "        [ -150.0986429 ,   -68.03998716,   -44.92365423, ...,\n",
       "            55.61896152,    73.46852918,   160.23428888],\n",
       "        [ -195.45093365,  -236.24454514,    18.7462775 , ...,\n",
       "            37.12575794,   107.97144286,   254.8704438 ],\n",
       "        [ 1355.12870556, -1669.78389354,  -212.35455194, ...,\n",
       "            28.10562213,   122.01663284,    -5.99360395]]),\n",
       " array([[   0.        ,  214.82680186,   86.72946899, ...,   61.777259  ,\n",
       "          -86.72946899, -214.82680186],\n",
       "        [ 809.16547176, -424.54520581, -123.09065613, ...,   24.91720206,\n",
       "          137.22269074,  -46.35487745],\n",
       "        [ 207.33572767, -117.40829967,  129.82224841, ...,  -63.15176473,\n",
       "         -133.60790461,   70.77044645],\n",
       "        ...,\n",
       "        [ -82.42611867,   27.06913089,   -1.01932571, ...,  -43.43767954,\n",
       "          -25.80061277,   10.11907723],\n",
       "        [-207.33572767,  -70.77044645,  133.60790461, ...,   19.81057257,\n",
       "         -129.82224841,  117.40829967],\n",
       "        [-809.16547176,   46.35487745, -137.22269074, ...,   89.24320799,\n",
       "          123.09065613,  424.54520581]]))"
      ]
     },
     "execution_count": 113,
     "metadata": {},
     "output_type": "execute_result"
    }
   ],
   "source": [
    "np.real(fft_next), np.imag(fft_next)"
   ]
  },
  {
   "cell_type": "code",
   "execution_count": 114,
   "id": "70f4dd7f",
   "metadata": {},
   "outputs": [],
   "source": [
    "CorrelatedImageFT = np.zeros((128, 128), dtype=np.complex128)"
   ]
  },
  {
   "cell_type": "code",
   "execution_count": 115,
   "id": "a3eceddc",
   "metadata": {},
   "outputs": [
    {
     "data": {
      "text/plain": [
       "1j"
      ]
     },
     "execution_count": 115,
     "metadata": {},
     "output_type": "execute_result"
    }
   ],
   "source": [
    "1j"
   ]
  },
  {
   "cell_type": "code",
   "execution_count": 116,
   "id": "a09f2a3c",
   "metadata": {},
   "outputs": [],
   "source": [
    "CorrelatedImageFT.real = np.real(fft_next) * np.real(fft_ref) + np.imag(fft_next) * np.imag(fft_ref)"
   ]
  },
  {
   "cell_type": "code",
   "execution_count": 117,
   "id": "d501996c",
   "metadata": {},
   "outputs": [],
   "source": [
    "CorrelatedImageFT.imag = np.imag(fft_next) * np.real(fft_ref) - np.real(fft_next) * np.imag(fft_ref)"
   ]
  },
  {
   "cell_type": "code",
   "execution_count": 118,
   "id": "a79ba2c2",
   "metadata": {},
   "outputs": [],
   "source": [
    "correlated_image = np.fft.ifft2(CorrelatedImageFT)"
   ]
  },
  {
   "cell_type": "code",
   "execution_count": 119,
   "id": "e1d96f82",
   "metadata": {},
   "outputs": [
    {
     "data": {
      "text/plain": [
       "<matplotlib.image.AxesImage at 0x12fecbe0>"
      ]
     },
     "execution_count": 119,
     "metadata": {},
     "output_type": "execute_result"
    }
   ],
   "source": [
    "plt.imshow(np.abs(np.fft.fftshift(correlated_image)), cmap='gray', origin='lower')"
   ]
  },
  {
   "cell_type": "code",
   "execution_count": 121,
   "id": "f02a746a",
   "metadata": {},
   "outputs": [
    {
     "data": {
      "text/plain": [
       "(64, 57)"
      ]
     },
     "execution_count": 121,
     "metadata": {},
     "output_type": "execute_result"
    }
   ],
   "source": [
    "np.unravel_index(np.argmax(np.abs(np.fft.fftshift(correlated_image))), (128, 128))"
   ]
  },
  {
   "cell_type": "code",
   "execution_count": 122,
   "id": "92de887d",
   "metadata": {},
   "outputs": [],
   "source": [
    "corr_img = scipy.signal.fftconvolve(new_ref, new_next[::-1,::-1], mode='same')"
   ]
  },
  {
   "cell_type": "code",
   "execution_count": 123,
   "id": "c20ba2d8",
   "metadata": {},
   "outputs": [
    {
     "data": {
      "text/plain": [
       "(64, 70)"
      ]
     },
     "execution_count": 123,
     "metadata": {},
     "output_type": "execute_result"
    }
   ],
   "source": [
    "np.unravel_index(np.argmax(corr_img), corr_img.shape)"
   ]
  },
  {
   "cell_type": "code",
   "execution_count": 124,
   "id": "f63e44e3",
   "metadata": {},
   "outputs": [
    {
     "data": {
      "text/plain": [
       "<matplotlib.image.AxesImage at 0x132d4c88>"
      ]
     },
     "execution_count": 124,
     "metadata": {},
     "output_type": "execute_result"
    }
   ],
   "source": [
    "fig, axs = plt.subplots(1, 2)\n",
    "axs[0].imshow(new_ref, cmap='gray', origin='lower')\n",
    "axs[1].imshow(new_next, cmap='gray', origin='lower')"
   ]
  },
  {
   "cell_type": "code",
   "execution_count": 74,
   "id": "0a8fc5d2",
   "metadata": {},
   "outputs": [
    {
     "data": {
      "text/plain": [
       "<matplotlib.image.AxesImage at 0x11248178>"
      ]
     },
     "execution_count": 74,
     "metadata": {},
     "output_type": "execute_result"
    }
   ],
   "source": [
    "plt.imshow(np.abs(new_next - new_ref), cmap='gray', origin='lower')"
   ]
  },
  {
   "cell_type": "code",
   "execution_count": null,
   "id": "2250de4c",
   "metadata": {},
   "outputs": [],
   "source": [
    "base_path = Path('C:\\\\Users\\\\IIAP-IPC\\\\Desktop\\\\harsh\\\\TipTiltFLI-master\\\\cmake-build-debug')"
   ]
  },
  {
   "cell_type": "code",
   "execution_count": 31,
   "id": "b972aa98",
   "metadata": {},
   "outputs": [],
   "source": [
    "from numpy import genfromtxt"
   ]
  },
  {
   "cell_type": "code",
   "execution_count": 32,
   "id": "58609478",
   "metadata": {},
   "outputs": [],
   "source": [
    "my_data_1 = genfromtxt(base_path / 'XVoltageOnly.csv', delimiter=',')"
   ]
  },
  {
   "cell_type": "code",
   "execution_count": 13,
   "id": "e3e7763a",
   "metadata": {},
   "outputs": [],
   "source": [
    "my_data_2 = genfromtxt(base_path / 'YVoltageOnly.csv', delimiter=',')"
   ]
  },
  {
   "cell_type": "code",
   "execution_count": 77,
   "id": "161078f9",
   "metadata": {},
   "outputs": [
    {
     "data": {
      "text/plain": [
       "Text(0, 0.5, 'Shift [pixels]')"
      ]
     },
     "execution_count": 77,
     "metadata": {},
     "output_type": "execute_result"
    }
   ],
   "source": [
    "fig, axs = plt.subplots(2, 2)\n",
    "axs[0][0].plot(my_data_1[:, 0], my_data_1[:, 2])\n",
    "axs[0][1].plot(my_data_1[:, 0], my_data_1[:, 3])\n",
    "axs[1][0].plot(my_data_2[:, 1], my_data_2[:, 2])\n",
    "axs[1][1].plot(my_data_2[:, 1], my_data_2[:, 3])\n",
    "axs[1][0].set_xlabel('Voltage [Volts]')\n",
    "axs[1][1].set_xlabel('Voltage [Volts]')\n",
    "axs[0][0].set_ylabel('Shift [pixels]')\n",
    "axs[1][0].set_ylabel('Shift [pixels]')"
   ]
  },
  {
   "cell_type": "code",
   "execution_count": 78,
   "id": "9fdc32de",
   "metadata": {},
   "outputs": [
    {
     "data": {
      "text/plain": [
       "[<matplotlib.lines.Line2D at 0x11fe3070>]"
      ]
     },
     "execution_count": 78,
     "metadata": {},
     "output_type": "execute_result"
    }
   ],
   "source": [
    "fig, axs = plt.subplots(2, 2)\n",
    "axs[0][0].plot(my_data_1[:, 2])\n",
    "axs[0][1].plot(my_data_1[:, 3])\n",
    "axs[1][0].plot(my_data_2[:, 2])\n",
    "axs[1][1].plot(my_data_2[:, 3])"
   ]
  },
  {
   "cell_type": "code",
   "execution_count": 33,
   "id": "42e413e0",
   "metadata": {
    "scrolled": true
   },
   "outputs": [],
   "source": [
    "# print(np.polyfit(my_data_1[10:25, 0], my_data_1[10:25, 2], 1))\n",
    "# print(np.polyfit(my_data_1[10:25, 0], my_data_1[10:25, 3], 1))\n",
    "# print(np.polyfit(my_data_2[10:25, 1], my_data_2[10:25, 2], 1))\n",
    "# print(np.polyfit(my_data_2[10:25, 1], my_data_2[10:25, 3], 1))\n",
    "a1 = np.polyfit(my_data_1[10:25, 0], my_data_1[10:25, 2], 1)[0]\n",
    "a2 = np.polyfit(my_data_1[10:25, 0], my_data_1[10:25, 3], 1)[0]\n",
    "# a3 = np.polyfit(my_data_2[10:25, 1], my_data_2[10:25, 2], 1)[0]\n",
    "# a4 = np.polyfit(my_data_2[10:25, 1], my_data_2[10:25, 3], 1)[0]"
   ]
  },
  {
   "cell_type": "code",
   "execution_count": 34,
   "id": "a4eebb9a",
   "metadata": {},
   "outputs": [
    {
     "data": {
      "text/plain": [
       "(-0.03823084539285713, -0.0059318476428571396)"
      ]
     },
     "execution_count": 34,
     "metadata": {},
     "output_type": "execute_result"
    }
   ],
   "source": [
    "a1, a2"
   ]
  },
  {
   "cell_type": "code",
   "execution_count": 35,
   "id": "b43bac79",
   "metadata": {},
   "outputs": [],
   "source": [
    "am = np.linalg.inv(np.array([[-0.038, -0.005], [0.008, -0.03450556564285712]]))"
   ]
  },
  {
   "cell_type": "code",
   "execution_count": 36,
   "id": "dfdc9252",
   "metadata": {},
   "outputs": [
    {
     "data": {
      "text/plain": [
       "array([[-25.53676148,   3.70038297],\n",
       "       [ -5.92061275, -28.12291056]])"
      ]
     },
     "execution_count": 36,
     "metadata": {},
     "output_type": "execute_result"
    }
   ],
   "source": [
    "am"
   ]
  },
  {
   "cell_type": "code",
   "execution_count": 12,
   "id": "14761bc2",
   "metadata": {},
   "outputs": [
    {
     "data": {
      "text/plain": [
       "array([ -7.92716833, -17.40356141])"
      ]
     },
     "execution_count": 12,
     "metadata": {},
     "output_type": "execute_result"
    }
   ],
   "source": [
    "np.sum(am * np.array([8, 17])[np.newaxis, :], 1)"
   ]
  },
  {
   "cell_type": "code",
   "execution_count": null,
   "id": "d4526425",
   "metadata": {},
   "outputs": [],
   "source": []
  },
  {
   "cell_type": "code",
   "execution_count": 2,
   "id": "8ef61166",
   "metadata": {},
   "outputs": [],
   "source": [
    "hbase = Path('C:\\\\Users\\\\IIAP-IPC\\\\Desktop\\\\harsh\\\\TipTiltFLI-master\\\\cmake-build-debug')"
   ]
  },
  {
   "cell_type": "code",
   "execution_count": 3,
   "id": "df46e027",
   "metadata": {},
   "outputs": [],
   "source": [
    "hdata_1 = genfromtxt(hbase / 'XVoltageOnly.csv', delimiter=',')"
   ]
  },
  {
   "cell_type": "code",
   "execution_count": 4,
   "id": "b6c25c31",
   "metadata": {},
   "outputs": [],
   "source": [
    "hdata_2 = genfromtxt(hbase / 'YVoltageOnly.csv', delimiter=',')"
   ]
  },
  {
   "cell_type": "code",
   "execution_count": 5,
   "id": "72a11da9",
   "metadata": {},
   "outputs": [
    {
     "data": {
      "text/plain": [
       "Text(0, 0.5, 'Shift [pixels]')"
      ]
     },
     "execution_count": 5,
     "metadata": {},
     "output_type": "execute_result"
    }
   ],
   "source": [
    "fig, axs = plt.subplots(2, 2)\n",
    "axs[0][0].plot(hdata_1[:, 2])\n",
    "axs[0][1].plot(hdata_1[:, 3])\n",
    "axs[1][0].plot(hdata_2[:, 2])\n",
    "axs[1][1].plot(hdata_2[:, 3])\n",
    "axs[1][0].set_xlabel('Voltage [Volts]')\n",
    "axs[1][1].set_xlabel('Voltage [Volts]')\n",
    "axs[0][0].set_ylabel('Shift [pixels]')\n",
    "axs[1][0].set_ylabel('Shift [pixels]')"
   ]
  },
  {
   "cell_type": "code",
   "execution_count": 39,
   "id": "b3618384",
   "metadata": {},
   "outputs": [
    {
     "name": "stderr",
     "output_type": "stream",
     "text": [
      "C:\\Users\\IIAP-IPC\\anaconda3\\lib\\site-packages\\IPython\\core\\interactiveshell.py:3444: RankWarning: Polyfit may be poorly conditioned\n",
      "  exec(code_obj, self.user_global_ns, self.user_ns)\n",
      "C:\\Users\\IIAP-IPC\\anaconda3\\lib\\site-packages\\IPython\\core\\interactiveshell.py:3444: RankWarning: Polyfit may be poorly conditioned\n",
      "  exec(code_obj, self.user_global_ns, self.user_ns)\n"
     ]
    }
   ],
   "source": [
    "a1 = np.polyfit(hdata_1[0:10, 0], hdata_1[0:10, 2], 1)[0]\n",
    "a2 = np.polyfit(hdata_1[0:10, 0], hdata_1[0:10, 3], 1)[0]\n",
    "a3 = np.polyfit(hdata_1[0:10, 1], hdata_2[0:10, 2], 1)[0]\n",
    "a4 = np.polyfit(hdata_1[0:10, 1], hdata_2[0:10, 3], 1)[0]"
   ]
  },
  {
   "cell_type": "code",
   "execution_count": 40,
   "id": "b1d76691",
   "metadata": {},
   "outputs": [],
   "source": [
    "am = np.linalg.inv(np.array([[a1, a2], [a3, a4]]))"
   ]
  },
  {
   "cell_type": "code",
   "execution_count": 41,
   "id": "5ad8bd7f",
   "metadata": {},
   "outputs": [
    {
     "data": {
      "text/plain": [
       "array([[-28.00740729,  -1.52025658],\n",
       "       [-12.39691643, -10.16975151]])"
      ]
     },
     "execution_count": 41,
     "metadata": {},
     "output_type": "execute_result"
    }
   ],
   "source": [
    "am"
   ]
  },
  {
   "cell_type": "code",
   "execution_count": null,
   "id": "967b5c56",
   "metadata": {},
   "outputs": [],
   "source": []
  }
 ],
 "metadata": {
  "kernelspec": {
   "display_name": "Python 3 (ipykernel)",
   "language": "python",
   "name": "python3"
  },
  "language_info": {
   "codemirror_mode": {
    "name": "ipython",
    "version": 3
   },
   "file_extension": ".py",
   "mimetype": "text/x-python",
   "name": "python",
   "nbconvert_exporter": "python",
   "pygments_lexer": "ipython3",
   "version": "3.9.7"
  }
 },
 "nbformat": 4,
 "nbformat_minor": 5
}
